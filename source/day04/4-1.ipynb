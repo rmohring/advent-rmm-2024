{
 "cells": [
  {
   "cell_type": "code",
   "execution_count": 50,
   "id": "8cb80073-69c6-47a8-be73-0188e93d8784",
   "metadata": {},
   "outputs": [],
   "source": [
    "import numpy as np"
   ]
  },
  {
   "cell_type": "code",
   "execution_count": 158,
   "id": "8ae2a605-42dc-4831-85ba-152272274730",
   "metadata": {},
   "outputs": [],
   "source": [
    "#infile = '/home/rmohring/code/rmm/advent-rmm-2024/source/day04/4-test.dat'\n",
    "#infile = '/home/rmohring/code/rmm/advent-rmm-2024/source/day04/4-2-test.dat'\n",
    "infile = '/home/rmohring/code/rmm/advent-rmm-2024/source/day04/4-1.dat'\n",
    "data = []\n",
    "with open(infile, 'r') as fh:\n",
    "    for row in fh.readlines():\n",
    "        data.append(row.strip('\\n'))"
   ]
  },
  {
   "cell_type": "code",
   "execution_count": 159,
   "id": "9574ecaf-8984-4e43-b605-838b55925286",
   "metadata": {},
   "outputs": [],
   "source": [
    "# data = [\n",
    "#     '00000000000X',\n",
    "#     'M000000000M0',\n",
    "#     'A00000000A00',\n",
    "#     'S0000000S000',\n",
    "#        ]\n",
    "\n",
    "data = [list(x) for x in data]\n",
    "for i in range(len(data), len(data[0])):\n",
    "    nerf = ['0']*len(data[0])\n",
    "    data.append(nerf)\n",
    "data = np.array(data)"
   ]
  },
  {
   "cell_type": "code",
   "execution_count": 160,
   "id": "df9f1c47-8af3-4122-a194-71366af28811",
   "metadata": {},
   "outputs": [
    {
     "data": {
      "text/plain": [
       "(140, 140)"
      ]
     },
     "execution_count": 160,
     "metadata": {},
     "output_type": "execute_result"
    }
   ],
   "source": [
    "data.shape"
   ]
  },
  {
   "cell_type": "code",
   "execution_count": 141,
   "id": "5bf7a04e-3e83-4658-a93b-0c022f8c35f7",
   "metadata": {
    "scrolled": true
   },
   "outputs": [],
   "source": [
    "def make_diagonal(grid):\n",
    "    # Diagonal right\n",
    "    n = grid.shape[0]\n",
    "    new = [ [] for i in range(2*n-1)]    \n",
    "    for i in range(n):\n",
    "        for q,val in enumerate(grid[i]):\n",
    "            #print(val, n, i, q)\n",
    "            new[(n-1-q)+i].append(val)\n",
    "    return new"
   ]
  },
  {
   "cell_type": "code",
   "execution_count": 131,
   "id": "710b194f-d52e-447d-b2ea-d9a67fb5ba60",
   "metadata": {},
   "outputs": [],
   "source": [
    "def countem(grid):\n",
    "    ctr = 0\n",
    "    for r in grid:\n",
    "        tmp = ''.join(r)\n",
    "        ctr += tmp.count('XMAS')\n",
    "        ctr += tmp.count('SAMX')\n",
    "    return ctr"
   ]
  },
  {
   "cell_type": "code",
   "execution_count": 132,
   "id": "707ac114-b615-4c5c-8864-76e7857e984a",
   "metadata": {},
   "outputs": [
    {
     "name": "stdout",
     "output_type": "stream",
     "text": [
      "397 418 732 797 2344\n"
     ]
    }
   ],
   "source": [
    "s1 = countem(data)\n",
    "s2 = countem(data.T)\n",
    "s3 = countem(make_diagonal(data))\n",
    "s4 = countem(make_diagonal(np.flipud(data)))\n",
    "print(s1,s2,s3,s4,(s1+s2+s3+s4))"
   ]
  },
  {
   "cell_type": "code",
   "execution_count": 126,
   "id": "f104059a-7d64-4cb9-855c-d9b0a3d0befd",
   "metadata": {},
   "outputs": [
    {
     "name": "stdout",
     "output_type": "stream",
     "text": [
      "[['M' 'M' 'M' 'S' 'X' 'X' 'M' 'A' 'S' 'M']\n",
      " ['M' 'S' 'A' 'M' 'X' 'M' 'S' 'M' 'S' 'A']\n",
      " ['A' 'M' 'X' 'S' 'X' 'M' 'A' 'A' 'M' 'M']\n",
      " ['M' 'S' 'A' 'M' 'A' 'S' 'M' 'S' 'M' 'X']\n",
      " ['X' 'M' 'A' 'S' 'A' 'M' 'X' 'A' 'M' 'M']\n",
      " ['X' 'X' 'A' 'M' 'M' 'X' 'X' 'A' 'M' 'A']\n",
      " ['S' 'M' 'S' 'M' 'S' 'A' 'S' 'X' 'S' 'S']\n",
      " ['S' 'A' 'X' 'A' 'M' 'A' 'S' 'A' 'A' 'A']\n",
      " ['M' 'A' 'M' 'M' 'M' 'X' 'M' 'M' 'M' 'M']\n",
      " ['M' 'X' 'M' 'X' 'A' 'X' 'M' 'A' 'S' 'X']]\n"
     ]
    }
   ],
   "source": [
    "print(data)"
   ]
  },
  {
   "cell_type": "code",
   "execution_count": 106,
   "id": "824d3bac-1c01-4d15-ab13-99a6ae00e3e3",
   "metadata": {
    "jupyter": {
     "source_hidden": true
    },
    "scrolled": true
   },
   "outputs": [
    {
     "data": {
      "text/plain": [
       "array([['0', 'M', 'A', 'S', '0', '0', '0', '0', '0', '0', '0', '0'],\n",
       "       ['0', '0', '0', '0', '0', '0', '0', '0', '0', '0', '0', '0'],\n",
       "       ['0', '0', '0', '0', '0', '0', '0', '0', '0', '0', '0', '0'],\n",
       "       ['0', '0', '0', '0', '0', '0', '0', '0', '0', '0', '0', '0'],\n",
       "       ['0', '0', '0', '0', '0', '0', '0', '0', '0', '0', '0', '0'],\n",
       "       ['0', '0', '0', '0', '0', '0', '0', '0', '0', '0', '0', '0'],\n",
       "       ['0', '0', '0', '0', '0', '0', '0', '0', '0', '0', '0', '0'],\n",
       "       ['0', '0', '0', '0', '0', '0', '0', '0', '0', '0', '0', '0'],\n",
       "       ['0', '0', '0', 'S', '0', '0', '0', '0', '0', '0', '0', '0'],\n",
       "       ['0', '0', 'A', '0', '0', '0', '0', '0', '0', '0', '0', '0'],\n",
       "       ['0', 'M', '0', '0', '0', '0', '0', '0', '0', '0', '0', '0'],\n",
       "       ['X', '0', '0', '0', '0', '0', '0', '0', '0', '0', '0', '0']],\n",
       "      dtype='<U1')"
      ]
     },
     "execution_count": 106,
     "metadata": {},
     "output_type": "execute_result"
    }
   ],
   "source": [
    "data.T"
   ]
  },
  {
   "cell_type": "code",
   "execution_count": 107,
   "id": "168698b9-faaa-4707-addf-6aca8bedef4c",
   "metadata": {
    "jupyter": {
     "source_hidden": true
    },
    "scrolled": true
   },
   "outputs": [
    {
     "data": {
      "text/plain": [
       "[['X'],\n",
       " ['0', '0'],\n",
       " ['0', 'M', '0'],\n",
       " ['0', '0', '0', '0'],\n",
       " ['0', '0', 'A', '0', '0'],\n",
       " ['0', '0', '0', '0', '0', '0'],\n",
       " ['0', '0', '0', 'S', '0', '0', '0'],\n",
       " ['0', '0', '0', '0', '0', '0', '0', '0'],\n",
       " ['0', '0', '0', '0', '0', '0', '0', '0', '0'],\n",
       " ['0', '0', '0', '0', '0', '0', '0', '0', '0', '0'],\n",
       " ['0', '0', '0', '0', '0', '0', '0', '0', '0', '0', '0'],\n",
       " ['0', '0', '0', '0', '0', '0', '0', '0', '0', '0', '0', '0'],\n",
       " ['M', '0', '0', '0', '0', '0', '0', '0', '0', '0', '0'],\n",
       " ['A', '0', '0', '0', '0', '0', '0', '0', '0', '0'],\n",
       " ['S', '0', '0', '0', '0', '0', '0', '0', '0'],\n",
       " ['0', '0', '0', '0', '0', '0', '0', '0'],\n",
       " ['0', '0', '0', '0', '0', '0', '0'],\n",
       " ['0', '0', '0', '0', '0', '0'],\n",
       " ['0', '0', '0', '0', '0'],\n",
       " ['0', '0', '0', '0'],\n",
       " ['0', '0', '0'],\n",
       " ['0', '0'],\n",
       " ['0']]"
      ]
     },
     "execution_count": 107,
     "metadata": {},
     "output_type": "execute_result"
    }
   ],
   "source": [
    "make_diagonal(data)"
   ]
  },
  {
   "cell_type": "code",
   "execution_count": 108,
   "id": "e6b53849-7f84-481c-88b0-ee785babe79a",
   "metadata": {
    "jupyter": {
     "source_hidden": true
    },
    "scrolled": true
   },
   "outputs": [
    {
     "data": {
      "text/plain": [
       "[['0'],\n",
       " ['0', '0'],\n",
       " ['0', '0', '0'],\n",
       " ['0', '0', '0', '0'],\n",
       " ['0', '0', '0', '0', '0'],\n",
       " ['0', '0', '0', '0', '0', '0'],\n",
       " ['0', '0', '0', '0', '0', '0', '0'],\n",
       " ['0', '0', '0', '0', '0', '0', '0', '0'],\n",
       " ['S', '0', '0', '0', '0', '0', '0', '0', '0'],\n",
       " ['A', '0', '0', '0', '0', '0', '0', '0', '0', '0'],\n",
       " ['M', '0', '0', '0', '0', '0', '0', '0', '0', '0', '0'],\n",
       " ['0', '0', '0', '0', '0', '0', '0', '0', '0', '0', '0', '0'],\n",
       " ['0', '0', '0', '0', '0', '0', '0', '0', '0', '0', '0'],\n",
       " ['0', '0', '0', '0', '0', '0', '0', '0', '0', '0'],\n",
       " ['0', '0', '0', '0', '0', '0', '0', '0', '0'],\n",
       " ['0', '0', '0', '0', '0', '0', '0', '0'],\n",
       " ['0', '0', '0', 'S', '0', '0', '0'],\n",
       " ['0', '0', '0', '0', '0', '0'],\n",
       " ['0', '0', 'A', '0', '0'],\n",
       " ['0', '0', '0', '0'],\n",
       " ['0', 'M', '0'],\n",
       " ['0', '0'],\n",
       " ['X']]"
      ]
     },
     "execution_count": 108,
     "metadata": {},
     "output_type": "execute_result"
    }
   ],
   "source": [
    "make_diagonal(data.T)"
   ]
  },
  {
   "cell_type": "code",
   "execution_count": 109,
   "id": "b33837b6-89ae-44e5-87e5-af36ce6d6362",
   "metadata": {},
   "outputs": [
    {
     "name": "stdout",
     "output_type": "stream",
     "text": [
      "0 0 00000000000X\n",
      "0 0 M000000000M0\n",
      "0 0 A00000000A00\n",
      "0 0 S0000000S000\n",
      "0 0 000000000000\n",
      "0 0 000000000000\n",
      "0 0 000000000000\n",
      "0 0 000000000000\n",
      "0 0 000000000000\n",
      "0 0 000000000000\n",
      "0 0 000000000000\n",
      "0 0 000000000000\n",
      "Count: 0\n"
     ]
    }
   ],
   "source": [
    "c = 0\n",
    "for row in data[:20]:\n",
    "    tmp = ''.join(row)\n",
    "    c += tmp.count('XMAS') + tmp.count('SAMX')\n",
    "    print(tmp.count('XMAS'), tmp.count('SAMX'), tmp)\n",
    "print(f'Count: {c}')"
   ]
  },
  {
   "cell_type": "code",
   "execution_count": 110,
   "id": "fcd2c1bd-8dfd-49b5-a32e-1394bda58de4",
   "metadata": {
    "jupyter": {
     "source_hidden": true
    },
    "scrolled": true
   },
   "outputs": [
    {
     "name": "stdout",
     "output_type": "stream",
     "text": [
      "0 0 0MAS00000000\n",
      "0 0 000000000000\n",
      "0 0 000000000000\n",
      "0 0 000000000000\n",
      "0 0 000000000000\n",
      "0 0 000000000000\n",
      "0 0 000000000000\n",
      "0 0 000000000000\n",
      "0 0 000S00000000\n",
      "0 0 00A000000000\n",
      "0 0 0M0000000000\n",
      "0 0 X00000000000\n",
      "Count: 0\n"
     ]
    }
   ],
   "source": [
    "c = 0\n",
    "for row in data.T: #[:20]:\n",
    "    tmp = ''.join(row)\n",
    "    c += tmp.count('XMAS') + tmp.count('SAMX')\n",
    "    print(tmp.count('XMAS'), tmp.count('SAMX'), tmp)\n",
    "print(f'Count: {c}')"
   ]
  },
  {
   "cell_type": "code",
   "execution_count": 111,
   "id": "b9a99bef-39e4-4e94-bce6-7e11709b7733",
   "metadata": {
    "jupyter": {
     "source_hidden": true
    },
    "scrolled": true
   },
   "outputs": [
    {
     "name": "stdout",
     "output_type": "stream",
     "text": [
      "0 0 X\n",
      "0 0 00\n",
      "0 0 0M0\n",
      "0 0 0000\n",
      "0 0 00A00\n",
      "0 0 000000\n",
      "0 0 000S000\n",
      "0 0 00000000\n",
      "0 0 000000000\n",
      "0 0 0000000000\n",
      "0 0 00000000000\n",
      "0 0 000000000000\n",
      "0 0 M0000000000\n",
      "0 0 A000000000\n",
      "0 0 S00000000\n",
      "0 0 00000000\n",
      "0 0 0000000\n",
      "0 0 000000\n",
      "0 0 00000\n",
      "0 0 0000\n",
      "0 0 000\n",
      "0 0 00\n",
      "0 0 0\n",
      "Count: 0\n"
     ]
    }
   ],
   "source": [
    "c = 0\n",
    "for row in make_diagonal(data):\n",
    "    tmp = ''.join(row)\n",
    "    c += tmp.count('XMAS') + tmp.count('SAMX')\n",
    "    print(tmp.count('XMAS'), tmp.count('SAMX'), tmp)\n",
    "print(f'Count: {c}')"
   ]
  },
  {
   "cell_type": "code",
   "execution_count": 115,
   "id": "4a39cb9a-fb2e-4573-84cf-6d6e5d735b7d",
   "metadata": {
    "scrolled": true
   },
   "outputs": [
    {
     "name": "stdout",
     "output_type": "stream",
     "text": [
      "0 0 0\n",
      "0 0 00\n",
      "0 0 000\n",
      "0 0 0000\n",
      "0 0 00000\n",
      "0 0 000000\n",
      "0 0 0000000\n",
      "0 0 00000000\n",
      "0 0 000000000\n",
      "0 0 0000000000\n",
      "0 0 00000000000\n",
      "0 1 00000000SAMX\n",
      "0 0 00000000000\n",
      "0 0 0000000000\n",
      "0 0 000000000\n",
      "0 0 00000000\n",
      "0 0 0000000\n",
      "0 0 000000\n",
      "0 0 00000\n",
      "0 0 S000\n",
      "0 0 A00\n",
      "0 0 M0\n",
      "0 0 0\n",
      "Count: 1\n"
     ]
    }
   ],
   "source": [
    "c = 0\n",
    "for row in make_diagonal(np.flipud(data)):\n",
    "    tmp = ''.join(row)\n",
    "    c += tmp.count('XMAS') + tmp.count('SAMX')\n",
    "    print(tmp.count('XMAS'), tmp.count('SAMX'), tmp)\n",
    "print(f'Count: {c}')"
   ]
  },
  {
   "cell_type": "markdown",
   "id": "312d608c-2207-47f4-bd6c-2cafbed4db32",
   "metadata": {},
   "source": [
    "# Part 2"
   ]
  },
  {
   "cell_type": "code",
   "execution_count": 161,
   "id": "cacbd62f-46d7-417a-9e35-5c3a243639f6",
   "metadata": {},
   "outputs": [
    {
     "data": {
      "text/plain": [
       "array([['X', 'X', 'X', ..., 'M', 'M', 'M'],\n",
       "       ['A', 'M', 'S', ..., 'S', 'A', 'M'],\n",
       "       ['M', 'A', 'A', ..., 'S', 'A', 'S'],\n",
       "       ...,\n",
       "       ['M', 'A', 'S', ..., 'A', 'A', 'A'],\n",
       "       ['A', 'M', 'A', ..., 'M', 'S', 'M'],\n",
       "       ['S', 'X', 'S', ..., 'A', 'M', 'X']], dtype='<U1')"
      ]
     },
     "execution_count": 161,
     "metadata": {},
     "output_type": "execute_result"
    }
   ],
   "source": [
    "data"
   ]
  },
  {
   "cell_type": "code",
   "execution_count": 162,
   "id": "b3c7de7b-b611-400f-80df-858c62015f2d",
   "metadata": {},
   "outputs": [],
   "source": [
    "n = data.shape[0]\n",
    "ctr = 0\n",
    "for r in range(n-2):\n",
    "    for c in range(n-2):\n",
    "        if data[r][c]==\"M\" and data[r][c+2]==\"M\" and data[r+1][c+1]==\"A\" and data[r+2][c]==\"S\" and data[r+2][c+2]==\"S\":\n",
    "            ctr += 1\n",
    "        elif data[r][c]==\"M\" and data[r][c+2]==\"S\" and data[r+1][c+1]==\"A\" and data[r+2][c]==\"M\" and data[r+2][c+2]==\"S\":\n",
    "            ctr += 1        \n",
    "        elif data[r][c]==\"S\" and data[r][c+2]==\"S\" and data[r+1][c+1]==\"A\" and data[r+2][c]==\"M\" and data[r+2][c+2]==\"M\":\n",
    "            ctr += 1        \n",
    "        elif data[r][c]==\"S\" and data[r][c+2]==\"M\" and data[r+1][c+1]==\"A\" and data[r+2][c]==\"S\" and data[r+2][c+2]==\"M\":\n",
    "            ctr += 1          "
   ]
  },
  {
   "cell_type": "code",
   "execution_count": 163,
   "id": "e50ee7cd-1c91-4de9-ab74-a61d28199e63",
   "metadata": {},
   "outputs": [
    {
     "data": {
      "text/plain": [
       "1815"
      ]
     },
     "execution_count": 163,
     "metadata": {},
     "output_type": "execute_result"
    }
   ],
   "source": [
    "ctr"
   ]
  },
  {
   "cell_type": "markdown",
   "id": "272a1bdf-12d5-42f9-8027-b33a21881305",
   "metadata": {},
   "source": [
    "# Experiments"
   ]
  },
  {
   "cell_type": "code",
   "execution_count": null,
   "id": "bd00530d-ae5c-4792-b6d3-a491d9e42e71",
   "metadata": {},
   "outputs": [],
   "source": [
    "m = [ [ 0, 1, 2 ], [10,11,12],[20,21,22]]"
   ]
  },
  {
   "cell_type": "code",
   "execution_count": null,
   "id": "e4391eb5-cb6e-4e58-affe-c5b109422603",
   "metadata": {},
   "outputs": [],
   "source": [
    "m = np.array(m)"
   ]
  },
  {
   "cell_type": "code",
   "execution_count": null,
   "id": "81db871a-e387-42d9-8bc1-e48ac1a9befa",
   "metadata": {},
   "outputs": [],
   "source": [
    "m"
   ]
  },
  {
   "cell_type": "code",
   "execution_count": null,
   "id": "45c74a7d-0ad5-49fd-9a97-6251fad5ece2",
   "metadata": {},
   "outputs": [],
   "source": [
    "m.T"
   ]
  },
  {
   "cell_type": "code",
   "execution_count": null,
   "id": "a0e7e4cd-b77b-40a0-8592-25f3dbebfa41",
   "metadata": {
    "scrolled": true
   },
   "outputs": [],
   "source": [
    "m.diagonal()"
   ]
  },
  {
   "cell_type": "code",
   "execution_count": null,
   "id": "fcb61ebe-5449-402f-945a-c8af75abdcc2",
   "metadata": {},
   "outputs": [],
   "source": [
    "#n = m.shape[0]\n",
    "#r = np.empty((2*n-1, 2*n-1))*0"
   ]
  },
  {
   "cell_type": "code",
   "execution_count": null,
   "id": "80cacb45-779b-4544-97a3-c2d5e61adb3c",
   "metadata": {},
   "outputs": [],
   "source": [
    "new"
   ]
  },
  {
   "cell_type": "code",
   "execution_count": null,
   "id": "c6170df3-baf3-47d5-8532-6702afa83766",
   "metadata": {},
   "outputs": [],
   "source": [
    "print(data)"
   ]
  },
  {
   "cell_type": "code",
   "execution_count": null,
   "id": "c4ccb70a-9fc5-48a0-aa45-1ff9c71fae0c",
   "metadata": {},
   "outputs": [],
   "source": [
    "tmp = ['X','M','A','S','X','A','X','M','A','S']"
   ]
  },
  {
   "cell_type": "code",
   "execution_count": null,
   "id": "9083e508-f003-4ee7-9a91-67186d22a5db",
   "metadata": {},
   "outputs": [],
   "source": [
    "tmp2 = ''.join(tmp)"
   ]
  },
  {
   "cell_type": "raw",
   "id": "1e18358e-7c7f-4bea-889a-f2fd984a4eb1",
   "metadata": {
    "scrolled": true
   },
   "source": [
    "# Diagonal right\n",
    "n = data.shape[0]\n",
    "new = [ [] for i in range(2*n-1)]    \n",
    "for i in range(n):\n",
    "    for q,val in enumerate(data[i]):\n",
    "        #print(val, n, i, q)\n",
    "        new[(n-1-q)+i].append(val)"
   ]
  },
  {
   "cell_type": "code",
   "execution_count": null,
   "id": "e77de0f4-9895-40e0-b09e-535de0008e01",
   "metadata": {},
   "outputs": [],
   "source": [
    "tmp2.count('XMAS')"
   ]
  }
 ],
 "metadata": {
  "kernelspec": {
   "display_name": "fctg-venv",
   "language": "python",
   "name": "fctg-venv"
  },
  "language_info": {
   "codemirror_mode": {
    "name": "ipython",
    "version": 3
   },
   "file_extension": ".py",
   "mimetype": "text/x-python",
   "name": "python",
   "nbconvert_exporter": "python",
   "pygments_lexer": "ipython3",
   "version": "3.10.12"
  }
 },
 "nbformat": 4,
 "nbformat_minor": 5
}

{
 "cells": [
  {
   "cell_type": "code",
   "execution_count": null,
   "id": "81c341df-a6ce-4824-a984-25a6df8553c5",
   "metadata": {},
   "outputs": [],
   "source": [
    "%pathsetup lib/python"
   ]
  },
  {
   "cell_type": "code",
   "execution_count": null,
   "id": "8cb80073-69c6-47a8-be73-0188e93d8784",
   "metadata": {},
   "outputs": [],
   "source": [
    "import numpy as np\n",
    "import pandas as pd\n",
    "#import rmm_util_accessor\n",
    "import itertools\n",
    "import time\n",
    "import re\n",
    "import grid"
   ]
  },
  {
   "cell_type": "code",
   "execution_count": null,
   "id": "98e31e34-0a82-4f52-bc18-0bfc8dd09ebe",
   "metadata": {},
   "outputs": [],
   "source": [
    "day = 11\n",
    "#data = \"125 17\"\n",
    "data = \"20 82084 1650 3 346355 363 7975858 0\"\n",
    "data = data.split(\" \")"
   ]
  },
  {
   "cell_type": "code",
   "execution_count": null,
   "id": "265011a8-4d60-4b7b-a09f-29dab459727a",
   "metadata": {},
   "outputs": [],
   "source": [
    "data"
   ]
  },
  {
   "cell_type": "markdown",
   "id": "ef4acd23-a4d7-4aab-b737-e943391ca556",
   "metadata": {},
   "source": [
    "# Rules\n",
    "If the stone is engraved with the number 0, it is replaced by a stone engraved with the number 1.\n",
    "\n",
    "If the stone is engraved with a number that has an even number of digits, it is replaced by two stones. \n",
    "The left half of the digits are engraved on the new left stone, and the right half of the digits are engraved on the new right stone. \n",
    "(The new numbers don't keep extra leading zeroes: 1000 would become stones 10 and 0.)\n",
    "\n",
    "If none of the other rules apply, the stone is replaced by a new stone; the old stone's number multiplied by 2024 is engraved on the new stone."
   ]
  },
  {
   "cell_type": "code",
   "execution_count": null,
   "id": "c16c34ea-19ea-4ab6-b15b-c3ae9c314da7",
   "metadata": {},
   "outputs": [],
   "source": [
    "def blink(this_data):\n",
    "    answer = []\n",
    "    for x in this_data:\n",
    "        if x=='0':\n",
    "            new_x = ['1']\n",
    "        elif len(x)%2==0:\n",
    "            new_x = [ str(int(x[:len(x)//2])), str(int(x[len(x)//2:])) ]\n",
    "        else:\n",
    "            new_x = [ str(int(x) * 2024) ]\n",
    "        answer.extend(new_x)\n",
    "    return answer"
   ]
  },
  {
   "cell_type": "code",
   "execution_count": null,
   "id": "1b23b6dd-494d-4ba8-8795-9fdbf07efd75",
   "metadata": {
    "scrolled": true
   },
   "outputs": [],
   "source": [
    "%%time\n",
    "for i in range(25):\n",
    "    print(f\"Working blink #{i}\")\n",
    "    data = blink(data)"
   ]
  },
  {
   "cell_type": "code",
   "execution_count": null,
   "id": "f89538e8-4dba-4bdf-aa27-af8029eb4ba5",
   "metadata": {
    "scrolled": true
   },
   "outputs": [],
   "source": [
    "len(data)"
   ]
  },
  {
   "cell_type": "code",
   "execution_count": null,
   "id": "7f3415c7-4edb-4462-8cad-53fd3f5aaf49",
   "metadata": {},
   "outputs": [],
   "source": [
    "data[:20]"
   ]
  },
  {
   "cell_type": "code",
   "execution_count": null,
   "id": "bab98a3d-f97c-465d-a5fb-df5263bdb63a",
   "metadata": {},
   "outputs": [],
   "source": [
    "a = 251533\n",
    "exp = int(np.log10(a))\n",
    "print(exp)"
   ]
  },
  {
   "cell_type": "code",
   "execution_count": null,
   "id": "b7e50c27-42eb-4362-a468-5fd3333939bb",
   "metadata": {},
   "outputs": [],
   "source": [
    "exp/2"
   ]
  },
  {
   "cell_type": "code",
   "execution_count": null,
   "id": "0be6fcca-ced9-4201-8a62-385e9e06c1f6",
   "metadata": {},
   "outputs": [],
   "source": [
    "n1 = int(a / 10**(exp/2+0.5))"
   ]
  },
  {
   "cell_type": "code",
   "execution_count": null,
   "id": "507afa87-6808-41e9-b9a2-c8ec99acb66f",
   "metadata": {},
   "outputs": [],
   "source": [
    "n2 = a - int(n1 * 10**(exp/2+0.5))"
   ]
  },
  {
   "cell_type": "code",
   "execution_count": null,
   "id": "f9bbfdc7-4d75-4e6d-ad0f-eece16d638e5",
   "metadata": {},
   "outputs": [],
   "source": [
    "n1, n2"
   ]
  },
  {
   "cell_type": "code",
   "execution_count": null,
   "id": "258f0c27-fd7e-44b0-9a24-95e214b8b576",
   "metadata": {},
   "outputs": [],
   "source": [
    "a = 234"
   ]
  },
  {
   "cell_type": "code",
   "execution_count": null,
   "id": "a5e2d023-e0df-4b85-a21b-ed5c0892554c",
   "metadata": {},
   "outputs": [],
   "source": [
    "int(np.log10(a))%2"
   ]
  },
  {
   "cell_type": "code",
   "execution_count": null,
   "id": "12b1eb0c-4afd-4d4c-b535-292256319d32",
   "metadata": {},
   "outputs": [],
   "source": [
    "def blink2(this_data):\n",
    "    answer = []\n",
    "    for x in this_data:\n",
    "        if x==0:\n",
    "            answer.append(1)\n",
    "            continue\n",
    "        exp = len(str(x))//2\n",
    "        if exp%2:\n",
    "            tmp = 10**(exp/2+0.5)\n",
    "            n1 = int(x / tmp)\n",
    "            answer.append(n1)\n",
    "            answer.append(x - int(n1 * tmp))\n",
    "        else:\n",
    "            answer.append(x * 2024)\n",
    "    return answer"
   ]
  },
  {
   "cell_type": "code",
   "execution_count": null,
   "id": "732298ee-afea-470b-b13b-6c817e1c1040",
   "metadata": {
    "scrolled": true
   },
   "outputs": [],
   "source": [
    "%%time\n",
    "nerf= []\n",
    "data = \"20\" # 82084 1650 3 346355 363 7975858 0\"\n",
    "data = data.split(\" \")\n",
    "for i in range(45):\n",
    "    print(f\"Working blink #{i}, len {len(data)}\")\n",
    "    data = blink(data)\n",
    "    nerf.extend(data)"
   ]
  },
  {
   "cell_type": "code",
   "execution_count": null,
   "id": "a3fc36d5-f636-497e-a6c3-77f09ead0ed6",
   "metadata": {
    "scrolled": true
   },
   "outputs": [],
   "source": [
    "d = pd.Series(nerf, name='data').astype(int)"
   ]
  },
  {
   "cell_type": "code",
   "execution_count": null,
   "id": "d2685636-b4e0-4456-850f-7d4b4fc85d27",
   "metadata": {},
   "outputs": [],
   "source": [
    "d.value_counts()"
   ]
  },
  {
   "cell_type": "code",
   "execution_count": null,
   "id": "87187e4d-b3d7-477c-8998-54ee8930da35",
   "metadata": {},
   "outputs": [],
   "source": [
    "vc= d[d>1000].value_counts()\n",
    "vc[vc>1].sort_values(ascending=False).head(30)"
   ]
  },
  {
   "cell_type": "code",
   "execution_count": null,
   "id": "4cc6f744-ba78-4b5f-9f11-165def5e1099",
   "metadata": {},
   "outputs": [],
   "source": [
    "print(len(data))"
   ]
  },
  {
   "cell_type": "code",
   "execution_count": null,
   "id": "ba276def-08eb-4eae-a6f9-223a238c6647",
   "metadata": {},
   "outputs": [],
   "source": [
    "data = \"20 82084 1650 3 346355 363 7975858 0\"\n",
    "data = data.split(\" \")\n",
    "data = pd.DataFrame(data, columns=[\"old\"]) #.astype(int)"
   ]
  },
  {
   "cell_type": "code",
   "execution_count": null,
   "id": "f218d11f-5053-48a4-8aa3-288537acacaf",
   "metadata": {},
   "outputs": [],
   "source": [
    "data['even_length'] = data['old'].str.len()%2==0"
   ]
  },
  {
   "cell_type": "code",
   "execution_count": null,
   "id": "76507d98-8f99-43b0-b871-c9c601089627",
   "metadata": {},
   "outputs": [],
   "source": [
    "data['midpoint'] = (data['old'].str.len()/2).astype(int)"
   ]
  },
  {
   "cell_type": "code",
   "execution_count": null,
   "id": "ef4906ee-f4e0-41ca-8589-ede758c27e64",
   "metadata": {},
   "outputs": [],
   "source": [
    "def splitterL(x):\n",
    "    return x['old'][:x['midpoint']]\n",
    "def splitterR(x):\n",
    "    return x['old'][x['midpoint']:]"
   ]
  },
  {
   "cell_type": "code",
   "execution_count": null,
   "id": "980fc4a6-216e-405c-ad11-17b3b8e5eb75",
   "metadata": {},
   "outputs": [],
   "source": [
    "data['ensplittedL'] = data.apply(splitterL, axis=1)\n",
    "data['ensplittedR'] = data.apply(splitterR, axis=1)\n",
    "\n",
    "data.loc[~data['even_length'], 'ensplittedL'] = -99\n",
    "data.loc[~data['even_length'], 'ensplittedR'] = -99\n",
    "\n",
    "data['ensplittedL'] = data['ensplittedL'].astype(int)\n",
    "data['ensplittedR'] = data['ensplittedR'].astype(int)\n",
    "\n",
    "data.loc[~data['even_length'], 'ensplittedL'] = np.nan\n",
    "data.loc[~data['even_length'], 'ensplittedR'] = np.nan\n",
    "\n",
    "data.loc[~data['even_length'], 'ensplitted'] = (data['old'].astype(int)*2024).astype(str)\n",
    "data.loc[data['old']=='0', 'ensplitted'] = '1'"
   ]
  },
  {
   "cell_type": "code",
   "execution_count": null,
   "id": "2965d2f7-95d1-4ca8-bd9e-e374a9851018",
   "metadata": {},
   "outputs": [],
   "source": [
    "data"
   ]
  },
  {
   "cell_type": "code",
   "execution_count": null,
   "id": "2838991f-9bb5-4d21-8e49-57fb13928c04",
   "metadata": {},
   "outputs": [],
   "source": [
    "q = data[['ensplittedL','ensplittedR','ensplitted']]"
   ]
  },
  {
   "cell_type": "code",
   "execution_count": null,
   "id": "bb2cdc7b-8ac6-4fb8-b0b4-2925480c83ad",
   "metadata": {},
   "outputs": [],
   "source": [
    "pd.Series(q.to_numpy().flatten()).dropna().astype(int).astype(str)"
   ]
  },
  {
   "cell_type": "code",
   "execution_count": null,
   "id": "67d53b62-4710-4e72-b7de-c9690f075909",
   "metadata": {},
   "outputs": [],
   "source": [
    "def splitterL(x):\n",
    "    return x['old'][:x['midpoint']]\n",
    "def splitterR(x):\n",
    "    return x['old'][x['midpoint']:]"
   ]
  },
  {
   "cell_type": "code",
   "execution_count": null,
   "id": "bd3ad906-6047-40ee-8da5-f9455e3bc0a0",
   "metadata": {},
   "outputs": [],
   "source": [
    "def blink3(ser):\n",
    "    data = pd.DataFrame(ser, columns=['old'])\n",
    "    data['even_length'] = data['old'].str.len()%2==0\n",
    "    data['midpoint'] = (data['old'].str.len()/2).astype(int)\n",
    "    data['ensplittedL'] = data.apply(splitterL, axis=1)\n",
    "    data['ensplittedR'] = data.apply(splitterR, axis=1)\n",
    "    \n",
    "    data.loc[~data['even_length'], 'ensplittedL'] = -99\n",
    "    data.loc[~data['even_length'], 'ensplittedR'] = -99\n",
    "    \n",
    "    data['ensplittedL'] = data['ensplittedL'].astype(int)\n",
    "    data['ensplittedR'] = data['ensplittedR'].astype(int)\n",
    "    \n",
    "    data.loc[~data['even_length'], 'ensplittedL'] = np.nan\n",
    "    data.loc[~data['even_length'], 'ensplittedR'] = np.nan\n",
    "    \n",
    "    data.loc[~data['even_length'], 'ensplitted'] = (data['old'].astype(int)*2024).astype(str)\n",
    "    data.loc[data['old']=='0', 'ensplitted'] = '1'\n",
    "    q = data[['ensplittedL','ensplittedR','ensplitted']]    \n",
    "    return pd.Series(q.to_numpy().flatten()).dropna().astype(int).astype(str)"
   ]
  },
  {
   "cell_type": "code",
   "execution_count": null,
   "id": "aeb58ef4-25dd-4332-8a69-90098f4f4d77",
   "metadata": {
    "scrolled": true
   },
   "outputs": [],
   "source": [
    "%%time\n",
    "nerf = \"20 82084 1650 3 346355 363 7975858 0\"\n",
    "nerf = nerf.split(\" \")\n",
    "nerf = pd.DataFrame(nerf, columns=[\"old\"])\n",
    "for i in range(15):\n",
    "    print(f\"Working blink #{i}\")\n",
    "    nerf = blink3(nerf)"
   ]
  },
  {
   "cell_type": "code",
   "execution_count": null,
   "id": "ec7131cc-ea02-45f1-a313-4840ee3cf5a8",
   "metadata": {},
   "outputs": [],
   "source": [
    "nerf.head()"
   ]
  },
  {
   "cell_type": "code",
   "execution_count": null,
   "id": "60137391-1853-447f-8a10-ad8f7e6ced6a",
   "metadata": {},
   "outputs": [],
   "source": [
    "nerf.str.split('').str.len()"
   ]
  },
  {
   "cell_type": "code",
   "execution_count": null,
   "id": "911f0fdd-919c-4c4d-b305-14a62f050a9d",
   "metadata": {},
   "outputs": [],
   "source": []
  }
 ],
 "metadata": {
  "kernelspec": {
   "display_name": "fctg-venv",
   "language": "python",
   "name": "fctg-venv"
  },
  "language_info": {
   "codemirror_mode": {
    "name": "ipython",
    "version": 3
   },
   "file_extension": ".py",
   "mimetype": "text/x-python",
   "name": "python",
   "nbconvert_exporter": "python",
   "pygments_lexer": "ipython3",
   "version": "3.10.12"
  }
 },
 "nbformat": 4,
 "nbformat_minor": 5
}

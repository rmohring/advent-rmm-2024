{
 "cells": [
  {
   "cell_type": "code",
   "execution_count": 1,
   "id": "81c341df-a6ce-4824-a984-25a6df8553c5",
   "metadata": {},
   "outputs": [
    {
     "data": {
      "text/plain": [
       "\"Updated sys path to include repository root and as well as subdirs ['lib/python']\""
      ]
     },
     "execution_count": 1,
     "metadata": {},
     "output_type": "execute_result"
    }
   ],
   "source": [
    "%pathsetup lib/python"
   ]
  },
  {
   "cell_type": "code",
   "execution_count": 2,
   "id": "8cb80073-69c6-47a8-be73-0188e93d8784",
   "metadata": {},
   "outputs": [],
   "source": [
    "import numpy as np\n",
    "import pandas as pd\n",
    "#import rmm_util_accessor\n",
    "import itertools\n",
    "import time\n",
    "import re\n",
    "import grid"
   ]
  },
  {
   "cell_type": "code",
   "execution_count": 3,
   "id": "98e31e34-0a82-4f52-bc18-0bfc8dd09ebe",
   "metadata": {},
   "outputs": [],
   "source": [
    "day = 11\n",
    "#data = \"125 17\"\n",
    "data = \"20 82084 1650 3 346355 363 7975858 0\"\n",
    "data = data.split(\" \")"
   ]
  },
  {
   "cell_type": "code",
   "execution_count": 4,
   "id": "265011a8-4d60-4b7b-a09f-29dab459727a",
   "metadata": {},
   "outputs": [
    {
     "data": {
      "text/plain": [
       "['20', '82084', '1650', '3', '346355', '363', '7975858', '0']"
      ]
     },
     "execution_count": 4,
     "metadata": {},
     "output_type": "execute_result"
    }
   ],
   "source": [
    "data"
   ]
  },
  {
   "cell_type": "markdown",
   "id": "ef4acd23-a4d7-4aab-b737-e943391ca556",
   "metadata": {},
   "source": [
    "# Rules\n",
    "If the stone is engraved with the number 0, it is replaced by a stone engraved with the number 1.\n",
    "\n",
    "If the stone is engraved with a number that has an even number of digits, it is replaced by two stones. \n",
    "The left half of the digits are engraved on the new left stone, and the right half of the digits are engraved on the new right stone. \n",
    "(The new numbers don't keep extra leading zeroes: 1000 would become stones 10 and 0.)\n",
    "\n",
    "If none of the other rules apply, the stone is replaced by a new stone; the old stone's number multiplied by 2024 is engraved on the new stone."
   ]
  },
  {
   "cell_type": "code",
   "execution_count": 5,
   "id": "c16c34ea-19ea-4ab6-b15b-c3ae9c314da7",
   "metadata": {},
   "outputs": [],
   "source": [
    "def blink(x):\n",
    "    if x=='0':\n",
    "        new_x = ['1']\n",
    "    elif len(x)%2==0:\n",
    "        new_x = [ str(int(x[:len(x)//2])), str(int(x[len(x)//2:])) ]\n",
    "    else:\n",
    "        new_x = [ str(int(x) * 2024) ]\n",
    "    return new_x"
   ]
  },
  {
   "cell_type": "code",
   "execution_count": null,
   "id": "1b23b6dd-494d-4ba8-8795-9fdbf07efd75",
   "metadata": {
    "scrolled": true
   },
   "outputs": [],
   "source": [
    "%%time\n",
    "supermap = {}\n",
    "origdata = \"20 82084 1650 3 346355 363 7975858 0\"\n",
    "origdata = origdata.split(\" \")\n",
    "data = origdata.copy()\n",
    "new = set(data.copy())\n",
    "N = 75\n",
    "for i in range(N):   \n",
    "    print(f\"Working blink #{i}\")\n",
    "    working = new.copy()\n",
    "    new = set()\n",
    "    for x in working:\n",
    "        if x not in supermap:\n",
    "            result = blink(x)\n",
    "            supermap[x] = result\n",
    "            new.update(result)\n",
    "    #print(data)"
   ]
  },
  {
   "cell_type": "code",
   "execution_count": 7,
   "id": "512bd8a2-3214-4b6a-9466-1e72a0a35e95",
   "metadata": {},
   "outputs": [
    {
     "data": {
      "text/plain": [
       "3972"
      ]
     },
     "execution_count": 7,
     "metadata": {},
     "output_type": "execute_result"
    }
   ],
   "source": [
    "len(supermap)"
   ]
  },
  {
   "cell_type": "code",
   "execution_count": null,
   "id": "ebc6a75d-5f7e-45a3-9586-876648b2d669",
   "metadata": {
    "scrolled": true
   },
   "outputs": [],
   "source": [
    "%%time\n",
    "# The keys in the supermap are the only numbers I'll ever need to know for this\n",
    "# So do a 1 blink step for each first\n",
    "oneblink = {}\n",
    "for val in sorted(supermap.keys()):\n",
    "    data = blink(val)\n",
    "    print(f\"{val} --> {data}\")\n",
    "    oneblink[val] = data.copy()"
   ]
  },
  {
   "cell_type": "code",
   "execution_count": 9,
   "id": "2a28d8a6-71dc-46ba-ba63-1cfd0167b286",
   "metadata": {},
   "outputs": [
    {
     "data": {
      "text/plain": [
       "['2', '0']"
      ]
     },
     "execution_count": 9,
     "metadata": {},
     "output_type": "execute_result"
    }
   ],
   "source": [
    "oneblink['20']"
   ]
  },
  {
   "cell_type": "code",
   "execution_count": 10,
   "id": "97d830c3-ac8b-4698-be1d-ac6eb79dcdf9",
   "metadata": {
    "scrolled": true
   },
   "outputs": [
    {
     "name": "stdout",
     "output_type": "stream",
     "text": [
      "CPU times: user 31.2 ms, sys: 0 ns, total: 31.2 ms\n",
      "Wall time: 74.7 ms\n"
     ]
    }
   ],
   "source": [
    "%%time\n",
    "num = {}  # dictionary of counters for each element\n",
    "for d in origdata:\n",
    "    num[d] = 1\n",
    "working = num.copy()\n",
    "\n",
    "rounds = 75\n",
    "for i in range(rounds):\n",
    "    #print(\"--------\")\n",
    "    for stone, n in num.items():\n",
    "        newstones = oneblink[stone]\n",
    "        #print(f\"Loop {i}, Stone: {stone} x {n} -->\", newstones)\n",
    "        working[stone] -= n\n",
    "        if working[stone] == 0:\n",
    "            del working[stone]\n",
    "        for s in newstones:\n",
    "            if s in working:\n",
    "                working[s] += n  \n",
    "            else:\n",
    "                working[s] = n   \n",
    "    num = working.copy()   \n",
    "    "
   ]
  },
  {
   "cell_type": "code",
   "execution_count": 11,
   "id": "f4d22bef-104e-4ab5-b12a-8f62198a7ace",
   "metadata": {},
   "outputs": [
    {
     "data": {
      "text/plain": [
       "205913561055242"
      ]
     },
     "execution_count": 11,
     "metadata": {},
     "output_type": "execute_result"
    }
   ],
   "source": [
    "sum(num.values())"
   ]
  },
  {
   "cell_type": "code",
   "execution_count": 119,
   "id": "47edcbfa-64a4-4ec5-9bce-0daf3ad82dde",
   "metadata": {},
   "outputs": [
    {
     "data": {
      "text/plain": [
       "{'8096': 2, '1': 1, '16192': 1, '2': 2, '0': 1, '4': 1}"
      ]
     },
     "execution_count": 119,
     "metadata": {},
     "output_type": "execute_result"
    }
   ],
   "source": [
    "working"
   ]
  },
  {
   "cell_type": "markdown",
   "id": "f1f299b9-5884-422b-ba63-043d5c20aa87",
   "metadata": {},
   "source": [
    "# All junk below here"
   ]
  },
  {
   "cell_type": "code",
   "execution_count": 67,
   "id": "0c3899c8-295d-4cfb-8ea5-a3586a8b4224",
   "metadata": {},
   "outputs": [
    {
     "name": "stdout",
     "output_type": "stream",
     "text": [
      "CPU times: user 0 ns, sys: 0 ns, total: 0 ns\n",
      "Wall time: 29.1 µs\n"
     ]
    }
   ],
   "source": [
    "%%time\n",
    "#for x in data:\n",
    "if True:\n",
    "    x = '20'\n",
    "    nextlist = [x]\n",
    "    for n in range(2):\n",
    "        tmp = []\n",
    "        for val in nextlist:\n",
    "            tmp.extend(oneblink[val])\n",
    "        nextlist = tmp.copy()   "
   ]
  },
  {
   "cell_type": "code",
   "execution_count": 68,
   "id": "346d3991-ea5b-48ec-9a17-c6cdea6f0cc9",
   "metadata": {},
   "outputs": [
    {
     "data": {
      "text/plain": [
       "(2, 2)"
      ]
     },
     "execution_count": 68,
     "metadata": {},
     "output_type": "execute_result"
    }
   ],
   "source": [
    "len(nextlist), len(set(nextlist))"
   ]
  },
  {
   "cell_type": "code",
   "execution_count": 69,
   "id": "fd522d0c-d4b1-400a-9776-397fff55289f",
   "metadata": {},
   "outputs": [],
   "source": [
    "ser = pd.Series(nextlist)"
   ]
  },
  {
   "cell_type": "code",
   "execution_count": 70,
   "id": "d8938bec-15cb-45ea-9874-cb8f5c5b4da0",
   "metadata": {},
   "outputs": [
    {
     "data": {
      "text/plain": [
       "4048    1\n",
       "1       1\n",
       "Name: count, dtype: int64"
      ]
     },
     "execution_count": 70,
     "metadata": {},
     "output_type": "execute_result"
    }
   ],
   "source": [
    "ser.value_counts().sort_values(ascending=False)"
   ]
  },
  {
   "cell_type": "raw",
   "id": "8d6ddf4d-ca9b-427c-863b-f89500b87964",
   "metadata": {},
   "source": [
    "# This is how we figured this out\n",
    "'20' --> '2' '0'\n",
    "\n",
    "num['20'] = 1\n",
    "num['2'] = 0\n",
    "num['0'] = 0\n",
    "\n",
    "num['20'] = 0\n",
    "num['2'] = 1\n",
    "num['0'] = 1\n",
    "\n",
    "num['4048'] = 1\n",
    "num['20'] = 0\n",
    "num['2'] = 0\n",
    "num['0'] = 0\n",
    "num['1'] = 1\n",
    "\n",
    "num['4048'] = 0\n",
    "num['40'] = 1\n",
    "num['48'] = 1\n",
    "num['20'] = 0\n",
    "num['2'] = 0\n",
    "num['0'] = 0\n",
    "num['1'] = 0\n",
    "num['2024'] = 1\n",
    "\n",
    "num['4048'] = 0\n",
    "num['40'] = 0\n",
    "num['4'] = 2\n",
    "num['48'] = 0\n",
    "num['8'] = 1\n",
    "num['20'] = 1\n",
    "num['24'] = 1\n",
    "num['2'] = 0\n",
    "num['0'] = 1\n",
    "num['1'] = 0\n",
    "num['2024'] = 0\n",
    "\n",
    "num['4048'] = 0\n",
    "num['40'] = 0\n",
    "num['4'] = 0\n",
    "num['8096'] = 2\n",
    "num['48'] = 0\n",
    "num['8'] = 1\n",
    "num['20'] = 1\n",
    "num['24'] = 1\n",
    "num['2'] = 0\n",
    "num['0'] = 1\n",
    "num['1'] = 0\n",
    "num['2024'] = 0\n",
    "\n",
    "\n",
    "\n",
    "\n"
   ]
  },
  {
   "cell_type": "code",
   "execution_count": 11,
   "id": "bf3b1293-9217-4f9a-90fb-40c39be5c651",
   "metadata": {},
   "outputs": [],
   "source": [
    "thangs = []\n",
    "for x in data:\n",
    "    thangs.append([x])"
   ]
  },
  {
   "cell_type": "code",
   "execution_count": 12,
   "id": "fa831088-6a04-498c-9083-5c827bd43346",
   "metadata": {},
   "outputs": [
    {
     "data": {
      "text/plain": [
       "[['20'], ['82084'], ['1650'], ['3'], ['346355'], ['363'], ['7975858'], ['0']]"
      ]
     },
     "execution_count": 12,
     "metadata": {},
     "output_type": "execute_result"
    }
   ],
   "source": [
    "thangs"
   ]
  },
  {
   "cell_type": "code",
   "execution_count": null,
   "id": "0e813a88-68e7-4186-81eb-5e41cb8ba064",
   "metadata": {
    "scrolled": true
   },
   "outputs": [],
   "source": [
    "%%time\n",
    "thangs = {}\n",
    "for i,x in enumerate(data[:1]):\n",
    "    thangs[i] = [x]\n",
    "newthangs = {}\n",
    "for n in range(40):\n",
    "    print(f\"***** n={n}\")\n",
    "    for i,thing in enumerate(thangs.values()):\n",
    "        #print(f\"### i={i}, {thing}\")\n",
    "        newthangs[i] = []\n",
    "        for x in thing:\n",
    "            #print(f\"x={x}\")\n",
    "            newthangs[i].extend(supermap[x])\n",
    "            #print(newthangs[i])\n",
    "    thangs = newthangs.copy()"
   ]
  },
  {
   "cell_type": "code",
   "execution_count": null,
   "id": "a7759f93-e0b1-4f65-9430-9151a44d1e5d",
   "metadata": {
    "scrolled": true
   },
   "outputs": [],
   "source": [
    "thangs"
   ]
  },
  {
   "cell_type": "code",
   "execution_count": 24,
   "id": "f276ea33-05c7-4a48-bc3d-d3b8c55073f9",
   "metadata": {},
   "outputs": [
    {
     "data": {
      "text/plain": [
       "[0]"
      ]
     },
     "execution_count": 24,
     "metadata": {},
     "output_type": "execute_result"
    }
   ],
   "source": [
    "list(thangs.keys())"
   ]
  },
  {
   "cell_type": "code",
   "execution_count": 13,
   "id": "3999e0bd-afc0-42a0-b901-e6f8f60f1b04",
   "metadata": {},
   "outputs": [],
   "source": [
    "def fastblink(this_data):\n",
    "    ans = []\n",
    "    for x in this_data:\n",
    "        if x in oneblink:\n",
    "            ans.extend(oneblink[x])\n",
    "        else:\n",
    "            ans.extend(blink(x))\n",
    "    return ans"
   ]
  },
  {
   "cell_type": "code",
   "execution_count": null,
   "id": "62dc75e0-9661-47e0-9681-cbbe13c837f4",
   "metadata": {
    "scrolled": true
   },
   "outputs": [],
   "source": [
    "%%time\n",
    "data = \"125 17\"\n",
    "data = data.split(\" \")\n",
    "for i in range(35):\n",
    "    #print(f\"Working blink #{i}\")\n",
    "    data = fastblink(data)\n",
    "    #print(len(data))"
   ]
  },
  {
   "cell_type": "code",
   "execution_count": null,
   "id": "fafc9eac-eef6-4178-8b02-6380329d116c",
   "metadata": {
    "scrolled": true
   },
   "outputs": [],
   "source": [
    "%%time\n",
    "data = \"1 2 3\"\n",
    "data = data.split(\" \")\n",
    "for i in range(25):\n",
    "    print(f\"Working blink #{i}\")\n",
    "    data = blink(data)\n",
    "    print(data)"
   ]
  },
  {
   "cell_type": "code",
   "execution_count": null,
   "id": "a0cf3252-ef10-4fb8-bbcc-1af99e0049a7",
   "metadata": {},
   "outputs": [],
   "source": []
  }
 ],
 "metadata": {
  "kernelspec": {
   "display_name": "fctg-venv",
   "language": "python",
   "name": "fctg-venv"
  },
  "language_info": {
   "codemirror_mode": {
    "name": "ipython",
    "version": 3
   },
   "file_extension": ".py",
   "mimetype": "text/x-python",
   "name": "python",
   "nbconvert_exporter": "python",
   "pygments_lexer": "ipython3",
   "version": "3.10.12"
  }
 },
 "nbformat": 4,
 "nbformat_minor": 5
}

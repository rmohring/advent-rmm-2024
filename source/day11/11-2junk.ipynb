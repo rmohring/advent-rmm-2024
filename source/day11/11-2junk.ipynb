{
 "cells": [
  {
   "cell_type": "code",
   "execution_count": null,
   "id": "81c341df-a6ce-4824-a984-25a6df8553c5",
   "metadata": {},
   "outputs": [],
   "source": [
    "%pathsetup lib/python"
   ]
  },
  {
   "cell_type": "code",
   "execution_count": null,
   "id": "8cb80073-69c6-47a8-be73-0188e93d8784",
   "metadata": {},
   "outputs": [],
   "source": [
    "import numpy as np\n",
    "import pandas as pd\n",
    "#import rmm_util_accessor\n",
    "import itertools\n",
    "import time\n",
    "import re\n",
    "import grid"
   ]
  },
  {
   "cell_type": "code",
   "execution_count": null,
   "id": "98e31e34-0a82-4f52-bc18-0bfc8dd09ebe",
   "metadata": {},
   "outputs": [],
   "source": [
    "day = 11\n",
    "#data = \"125 17\"\n",
    "#data = \"20 82084 1650 3 346355 363 7975858 0\"\n",
    "data = \"1\"\n",
    "data = data.split(\" \")"
   ]
  },
  {
   "cell_type": "code",
   "execution_count": null,
   "id": "265011a8-4d60-4b7b-a09f-29dab459727a",
   "metadata": {},
   "outputs": [],
   "source": [
    "data"
   ]
  },
  {
   "cell_type": "markdown",
   "id": "ef4acd23-a4d7-4aab-b737-e943391ca556",
   "metadata": {},
   "source": [
    "# Rules\n",
    "If the stone is engraved with the number 0, it is replaced by a stone engraved with the number 1.\n",
    "\n",
    "If the stone is engraved with a number that has an even number of digits, it is replaced by two stones. \n",
    "The left half of the digits are engraved on the new left stone, and the right half of the digits are engraved on the new right stone. \n",
    "(The new numbers don't keep extra leading zeroes: 1000 would become stones 10 and 0.)\n",
    "\n",
    "If none of the other rules apply, the stone is replaced by a new stone; the old stone's number multiplied by 2024 is engraved on the new stone."
   ]
  },
  {
   "cell_type": "code",
   "execution_count": null,
   "id": "c16c34ea-19ea-4ab6-b15b-c3ae9c314da7",
   "metadata": {},
   "outputs": [],
   "source": [
    "def blink(this_data):\n",
    "    answer = []\n",
    "    for x in this_data:\n",
    "        if x=='0':\n",
    "            new_x = ['1']\n",
    "        elif len(x)%2==0:\n",
    "            new_x = [ str(int(x[:len(x)//2])), str(int(x[len(x)//2:])) ]\n",
    "        else:\n",
    "            new_x = [ str(int(x) * 2024) ]\n",
    "        answer.extend(new_x)\n",
    "    return answer"
   ]
  },
  {
   "cell_type": "code",
   "execution_count": null,
   "id": "1b23b6dd-494d-4ba8-8795-9fdbf07efd75",
   "metadata": {
    "scrolled": true
   },
   "outputs": [],
   "source": [
    "%%time\n",
    "data = \"1 2 3 4 5 6 7 8 9 20 82084 1650 346355 363 7975858\"\n",
    "data = data.split(\" \")\n",
    "for i in range(30):\n",
    "    print(f\"Working blink #{i}\")\n",
    "    data = blink(data)\n",
    "    #print(data)"
   ]
  },
  {
   "cell_type": "code",
   "execution_count": null,
   "id": "f89538e8-4dba-4bdf-aa27-af8029eb4ba5",
   "metadata": {
    "scrolled": true
   },
   "outputs": [],
   "source": [
    "d = pd.Series(data)\n",
    "vc = d.value_counts()\n",
    "testcases = vc.index.tolist()\n",
    "print(len(testcases), testcases[:5])"
   ]
  },
  {
   "cell_type": "code",
   "execution_count": null,
   "id": "1d2b57bc-417c-435a-bf81-dac64dc2ed9a",
   "metadata": {
    "scrolled": true
   },
   "outputs": [],
   "source": [
    "vc"
   ]
  },
  {
   "cell_type": "code",
   "execution_count": null,
   "id": "0e813a88-68e7-4186-81eb-5e41cb8ba064",
   "metadata": {},
   "outputs": [],
   "source": [
    "oneblink = {}\n",
    "nblinks = {}\n",
    "for i in testcases:\n",
    "    val = str(i)\n",
    "    vallist = [val]\n",
    "    oneblink[val] = blink(vallist)\n",
    "    \n",
    "    # for j in range(15):\n",
    "    #     vallist = blink(vallist)\n",
    "    # nblinks[val] = vallist"
   ]
  },
  {
   "cell_type": "code",
   "execution_count": null,
   "id": "0ab662f7-bf58-4212-9b20-6aa813a197c6",
   "metadata": {
    "scrolled": true
   },
   "outputs": [],
   "source": [
    "oneblink #nblinks"
   ]
  },
  {
   "cell_type": "code",
   "execution_count": null,
   "id": "3999e0bd-afc0-42a0-b901-e6f8f60f1b04",
   "metadata": {},
   "outputs": [],
   "source": [
    "def fastblink(this_data):\n",
    "    ans = []\n",
    "    for x in this_data:\n",
    "        if x in oneblink:\n",
    "            ans.extend(oneblink[x])\n",
    "        else:\n",
    "            ans.extend(blink(x))\n",
    "    return ans"
   ]
  },
  {
   "cell_type": "code",
   "execution_count": null,
   "id": "448f7544-6294-4e71-90b5-3b9be75d4e51",
   "metadata": {},
   "outputs": [],
   "source": [
    "oneblink['4048']"
   ]
  },
  {
   "cell_type": "code",
   "execution_count": null,
   "id": "62dc75e0-9661-47e0-9681-cbbe13c837f4",
   "metadata": {
    "scrolled": true
   },
   "outputs": [],
   "source": [
    "%%time\n",
    "data = \"125 17\"\n",
    "data = data.split(\" \")\n",
    "for i in range(45):\n",
    "    #print(f\"Working blink #{i}\")\n",
    "    data = fastblink(data)\n",
    "    #print(len(data))"
   ]
  },
  {
   "cell_type": "code",
   "execution_count": null,
   "id": "fafc9eac-eef6-4178-8b02-6380329d116c",
   "metadata": {
    "scrolled": true
   },
   "outputs": [],
   "source": [
    "%%time\n",
    "data = \"1 2 3\"\n",
    "data = data.split(\" \")\n",
    "for i in range(25):\n",
    "    print(f\"Working blink #{i}\")\n",
    "    data = blink(data)\n",
    "    print(data)"
   ]
  },
  {
   "cell_type": "code",
   "execution_count": null,
   "id": "a0cf3252-ef10-4fb8-bbcc-1af99e0049a7",
   "metadata": {},
   "outputs": [],
   "source": []
  }
 ],
 "metadata": {
  "kernelspec": {
   "display_name": "fctg-venv",
   "language": "python",
   "name": "fctg-venv"
  },
  "language_info": {
   "codemirror_mode": {
    "name": "ipython",
    "version": 3
   },
   "file_extension": ".py",
   "mimetype": "text/x-python",
   "name": "python",
   "nbconvert_exporter": "python",
   "pygments_lexer": "ipython3",
   "version": "3.10.12"
  }
 },
 "nbformat": 4,
 "nbformat_minor": 5
}

{
 "cells": [
  {
   "cell_type": "code",
   "execution_count": 1,
   "id": "81c341df-a6ce-4824-a984-25a6df8553c5",
   "metadata": {},
   "outputs": [
    {
     "data": {
      "text/plain": [
       "\"Updated sys path to include repository root and as well as subdirs ['lib/python']\""
      ]
     },
     "execution_count": 1,
     "metadata": {},
     "output_type": "execute_result"
    }
   ],
   "source": [
    "%pathsetup lib/python"
   ]
  },
  {
   "cell_type": "code",
   "execution_count": 2,
   "id": "8cb80073-69c6-47a8-be73-0188e93d8784",
   "metadata": {},
   "outputs": [],
   "source": [
    "import numpy as np\n",
    "import pandas as pd\n",
    "#import rmm_util_accessor\n",
    "import itertools\n",
    "import time\n",
    "import re\n",
    "import grid"
   ]
  },
  {
   "cell_type": "code",
   "execution_count": 67,
   "id": "98e31e34-0a82-4f52-bc18-0bfc8dd09ebe",
   "metadata": {},
   "outputs": [],
   "source": [
    "day = 10\n",
    "#infile = f'/home/rmohring/code/rmm/advent-rmm-2024/source/day{day:02}/{day}-1-test.dat'\n",
    "infile = f'/home/rmohring/code/rmm/advent-rmm-2024/source/day{day:02}/{day}-1.dat'\n",
    "#infile = f'/home/rmohring/code/rmm/advent-rmm-2024/source/day{day:02}/{day}-2.dat'\n",
    "data = []\n",
    "with open(infile, 'r') as fh:\n",
    "    data = fh.readlines()"
   ]
  },
  {
   "cell_type": "code",
   "execution_count": 68,
   "id": "8f1a22bc-7d04-4b50-b77f-54246e181e73",
   "metadata": {},
   "outputs": [
    {
     "data": {
      "text/plain": [
       "(45, 45)"
      ]
     },
     "execution_count": 68,
     "metadata": {},
     "output_type": "execute_result"
    }
   ],
   "source": [
    "g = grid.Gridder(data, from_text=True)\n",
    "g.shape\n",
    "#g.integerize()"
   ]
  },
  {
   "cell_type": "code",
   "execution_count": 69,
   "id": "dfc0aa1e-786d-4edc-adfe-94488108c40d",
   "metadata": {},
   "outputs": [],
   "source": [
    "g.integerize()"
   ]
  },
  {
   "cell_type": "code",
   "execution_count": 70,
   "id": "82b59b12-8686-4780-877a-8eee763053c3",
   "metadata": {
    "scrolled": true
   },
   "outputs": [
    {
     "data": {
      "text/plain": [
       "array([[2, 1, 0, ..., 0, 0, 1],\n",
       "       [1, 0, 1, ..., 0, 1, 2],\n",
       "       [5, 6, 7, ..., 1, 2, 3],\n",
       "       ...,\n",
       "       [0, 1, 2, ..., 9, 2, 1],\n",
       "       [3, 2, 3, ..., 4, 3, 0],\n",
       "       [4, 3, 4, ..., 3, 2, 1]])"
      ]
     },
     "execution_count": 70,
     "metadata": {},
     "output_type": "execute_result"
    }
   ],
   "source": [
    "g.grid"
   ]
  },
  {
   "cell_type": "code",
   "execution_count": 71,
   "id": "492fe0d1-9c51-4573-93e3-38f313495dcf",
   "metadata": {},
   "outputs": [
    {
     "data": {
      "text/plain": [
       "229"
      ]
     },
     "execution_count": 71,
     "metadata": {},
     "output_type": "execute_result"
    }
   ],
   "source": [
    "trailheads = np.argwhere(g.grid==0)\n",
    "len(trailheads)"
   ]
  },
  {
   "cell_type": "code",
   "execution_count": 72,
   "id": "e6b97b7f-146f-40cb-a3e1-7f571709bf71",
   "metadata": {},
   "outputs": [
    {
     "data": {
      "text/plain": [
       "168"
      ]
     },
     "execution_count": 72,
     "metadata": {},
     "output_type": "execute_result"
    }
   ],
   "source": [
    "ends = np.argwhere(g.grid==9)\n",
    "len(ends)"
   ]
  },
  {
   "cell_type": "code",
   "execution_count": 73,
   "id": "65d66e9a-eb9c-44a1-81c8-1abe6780dc2d",
   "metadata": {},
   "outputs": [],
   "source": [
    "locs = {}\n",
    "for i in range(10):\n",
    "    locs[i] = [(x[0],x[1]) for x in np.argwhere(g.grid==i)]"
   ]
  },
  {
   "cell_type": "code",
   "execution_count": 74,
   "id": "39d3a462-0664-4b89-8e1b-0f425b67a549",
   "metadata": {},
   "outputs": [],
   "source": [
    "def get_next_places(val, point):\n",
    "    r = point[0]\n",
    "    c = point[1]\n",
    "    valid = []\n",
    "\n",
    "    for r2,c2 in locs[val+1]:\n",
    "        cut1 = r2==r and c2==c+1\n",
    "        cut2 = r2==r and c2==c-1\n",
    "        cut3 = r2==r+1 and c2==c\n",
    "        cut4 = r2==r-1 and c2==c\n",
    "        if cut1 or cut2 or cut3 or cut4:\n",
    "            valid.append( (r2,c2) )\n",
    "    return valid"
   ]
  },
  {
   "cell_type": "code",
   "execution_count": 75,
   "id": "9a23f853-9209-43aa-b876-b263d1243aaf",
   "metadata": {},
   "outputs": [
    {
     "data": {
      "text/plain": [
       "array([[2, 1, 0, ..., 0, 0, 1],\n",
       "       [1, 0, 1, ..., 0, 1, 2],\n",
       "       [5, 6, 7, ..., 1, 2, 3],\n",
       "       ...,\n",
       "       [0, 1, 2, ..., 9, 2, 1],\n",
       "       [3, 2, 3, ..., 4, 3, 0],\n",
       "       [4, 3, 4, ..., 3, 2, 1]])"
      ]
     },
     "execution_count": 75,
     "metadata": {},
     "output_type": "execute_result"
    }
   ],
   "source": [
    "g.grid"
   ]
  },
  {
   "cell_type": "code",
   "execution_count": 76,
   "id": "708f7578-359f-40a5-bcdf-2e7c2346e4b9",
   "metadata": {
    "scrolled": true
   },
   "outputs": [],
   "source": [
    "q = {}\n",
    "scores = {}\n",
    "for idx,trailhead in enumerate(locs[0]):\n",
    "    #print(\"TRAILHEAD\", trailhead)\n",
    "    q[0] = [trailhead]\n",
    "    for i in range(1,10):\n",
    "        q[i] = set()\n",
    "        for p in q[i-1]:\n",
    "            #print(i, p, get_next_places(i-1, p))\n",
    "            q[i].update( set(get_next_places(i-1, p)) )\n",
    "    scores[trailhead] = len(q[9]) "
   ]
  },
  {
   "cell_type": "code",
   "execution_count": 77,
   "id": "32523f1c-79a9-454a-a218-9b6f8783de03",
   "metadata": {},
   "outputs": [
    {
     "data": {
      "text/plain": [
       "593"
      ]
     },
     "execution_count": 77,
     "metadata": {},
     "output_type": "execute_result"
    }
   ],
   "source": [
    "sum(scores.values())"
   ]
  },
  {
   "cell_type": "markdown",
   "id": "3f112a1b-1e61-4b25-904f-42943c657125",
   "metadata": {},
   "source": [
    "# Part 2"
   ]
  },
  {
   "cell_type": "code",
   "execution_count": 78,
   "id": "29fabc9c-906b-4103-985d-c4db61616bb0",
   "metadata": {
    "scrolled": true
   },
   "outputs": [],
   "source": [
    "q = {}\n",
    "ratings = {}\n",
    "for idx,trailhead in enumerate(locs[0]):\n",
    "    #print(\"TRAILHEAD\", trailhead)\n",
    "    q[0] = [trailhead]\n",
    "    for i in range(1,10):\n",
    "        q[i] = []\n",
    "        for p in q[i-1]:\n",
    "            #print(i, p, get_next_places(i-1, p))\n",
    "            q[i].extend( list(get_next_places(i-1, p)) )\n",
    "    ratings[trailhead] = len(q[9]) "
   ]
  },
  {
   "cell_type": "code",
   "execution_count": 79,
   "id": "52b1846e-347a-4d2a-8527-65b293861daa",
   "metadata": {},
   "outputs": [],
   "source": [
    "#for i in range(10):\n",
    "#    print(i, q[i])"
   ]
  },
  {
   "cell_type": "code",
   "execution_count": 80,
   "id": "a392cbe2-c982-42da-adb4-205eeda97daf",
   "metadata": {},
   "outputs": [
    {
     "data": {
      "text/plain": [
       "1192"
      ]
     },
     "execution_count": 80,
     "metadata": {},
     "output_type": "execute_result"
    }
   ],
   "source": [
    "sum(ratings.values())"
   ]
  },
  {
   "cell_type": "code",
   "execution_count": null,
   "id": "62759dbb-3f05-4c7b-ba4d-e9315331c8b8",
   "metadata": {},
   "outputs": [],
   "source": []
  },
  {
   "cell_type": "code",
   "execution_count": null,
   "id": "265011a8-4d60-4b7b-a09f-29dab459727a",
   "metadata": {},
   "outputs": [],
   "source": []
  }
 ],
 "metadata": {
  "kernelspec": {
   "display_name": "fctg-venv",
   "language": "python",
   "name": "fctg-venv"
  },
  "language_info": {
   "codemirror_mode": {
    "name": "ipython",
    "version": 3
   },
   "file_extension": ".py",
   "mimetype": "text/x-python",
   "name": "python",
   "nbconvert_exporter": "python",
   "pygments_lexer": "ipython3",
   "version": "3.10.12"
  }
 },
 "nbformat": 4,
 "nbformat_minor": 5
}

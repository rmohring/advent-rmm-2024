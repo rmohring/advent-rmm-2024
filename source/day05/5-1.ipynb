{
 "cells": [
  {
   "cell_type": "code",
   "execution_count": 1,
   "id": "81c341df-a6ce-4824-a984-25a6df8553c5",
   "metadata": {},
   "outputs": [
    {
     "data": {
      "text/plain": [
       "\"Updated sys path to include repository root and as well as subdirs ['lib/python']\""
      ]
     },
     "execution_count": 1,
     "metadata": {},
     "output_type": "execute_result"
    }
   ],
   "source": [
    "#%pathsetup lib/python"
   ]
  },
  {
   "cell_type": "code",
   "execution_count": 2,
   "id": "8cb80073-69c6-47a8-be73-0188e93d8784",
   "metadata": {},
   "outputs": [],
   "source": [
    "import numpy as np\n",
    "import pandas as pd\n",
    "#import rmm_util_accessor\n",
    "import itertools\n",
    "import re\n",
    "import grid"
   ]
  },
  {
   "cell_type": "code",
   "execution_count": 19,
   "id": "8ae2a605-42dc-4831-85ba-152272274730",
   "metadata": {},
   "outputs": [],
   "source": [
    "day = 5\n",
    "#infile = f'/home/rmohring/code/fctg-2-demo/hide/{day}-1-test.dat'\n",
    "infile = f'/home/rmohring/code/fctg-2-demo/hide/{day}-1.dat'\n",
    "#infile = f'/home/rmohring/code/fctg-2-demo/hide/{day}-2.dat'\n",
    "data = []\n",
    "with open(infile, 'r') as fh:\n",
    "    for row in fh.readlines():\n",
    "        data.append(row.strip('\\n'))"
   ]
  },
  {
   "cell_type": "code",
   "execution_count": 52,
   "id": "efa70b64-0c72-414f-a130-de9440e87d67",
   "metadata": {
    "scrolled": true
   },
   "outputs": [],
   "source": [
    "arules = []\n",
    "aupdates = []\n",
    "atbottom = False\n",
    "for row in data:\n",
    "    if row==\"\":\n",
    "        atbottom = True\n",
    "        continue\n",
    "    if not atbottom:\n",
    "        arules.append(row.strip(\"\\n\").split(\"|\"))\n",
    "    else:\n",
    "        aupdates.append(row.strip(\"\\n\").split(\",\"))\n",
    "\n",
    "rules = []\n",
    "updates = []\n",
    "rules = [ (int(a),int(b)) for a,b in arules ]\n",
    "for upd in aupdates:\n",
    "    #print(upd)\n",
    "    updates.append([ int(a) for a in upd ] )  "
   ]
  },
  {
   "cell_type": "code",
   "execution_count": 55,
   "id": "f2e76219-8a6e-4028-aacc-90408008540c",
   "metadata": {
    "scrolled": true
   },
   "outputs": [
    {
     "data": {
      "text/plain": [
       "[(48, 18), (22, 59), (22, 85), (27, 94), (27, 26)]"
      ]
     },
     "execution_count": 55,
     "metadata": {},
     "output_type": "execute_result"
    }
   ],
   "source": [
    "rules[:5]"
   ]
  },
  {
   "cell_type": "code",
   "execution_count": 54,
   "id": "7a225718-f3ea-41f2-b46a-e1d39b247c32",
   "metadata": {},
   "outputs": [
    {
     "data": {
      "text/plain": [
       "[[35, 58, 32, 63, 89, 99, 72, 79, 68],\n",
       " [86, 51, 18, 55, 24, 17, 65, 14, 26, 54, 41, 47, 97, 69, 19, 36, 42, 85, 98],\n",
       " [21, 22, 58, 33, 75, 47, 69, 42, 17, 26, 37],\n",
       " [11, 47, 69, 85, 94, 51, 55, 37, 59, 95, 65],\n",
       " [75, 58, 44, 68, 49, 63, 13, 39, 33, 46, 27, 62, 87, 53, 22, 11, 69, 48, 72]]"
      ]
     },
     "execution_count": 54,
     "metadata": {},
     "output_type": "execute_result"
    }
   ],
   "source": [
    "updates[:5]"
   ]
  },
  {
   "cell_type": "code",
   "execution_count": 56,
   "id": "e7a53553-f0e7-4368-b618-2d56746c4e60",
   "metadata": {
    "scrolled": true
   },
   "outputs": [],
   "source": [
    "ctr = 0\n",
    "bads = []\n",
    "for upd in updates:\n",
    "    good = True\n",
    "    for rule in rules:\n",
    "        a,b = rule\n",
    "        if a in upd and b in upd:\n",
    "            if upd.index(a) > upd.index(b):\n",
    "                #print(upd, a, b, rule)\n",
    "                good = False\n",
    "                bads.append(upd)\n",
    "                break\n",
    "    if good:\n",
    "        idx = len(upd)//2 #middle value\n",
    "        ctr += upd[idx]"
   ]
  },
  {
   "cell_type": "code",
   "execution_count": 57,
   "id": "4eb01337-549d-4149-bd65-9051963c7439",
   "metadata": {},
   "outputs": [
    {
     "data": {
      "text/plain": [
       "5509"
      ]
     },
     "execution_count": 57,
     "metadata": {},
     "output_type": "execute_result"
    }
   ],
   "source": [
    "ctr"
   ]
  },
  {
   "cell_type": "markdown",
   "id": "844c4a75-42d2-45ae-a678-d2a943a226ee",
   "metadata": {},
   "source": [
    "# Part 2"
   ]
  },
  {
   "cell_type": "code",
   "execution_count": 58,
   "id": "0ecddbb2-885b-4621-a664-41877806b3ad",
   "metadata": {},
   "outputs": [],
   "source": [
    "def whip_it(thing):\n",
    "    mutable_upd = thing.copy()\n",
    "    good = True\n",
    "    for rule in rules:\n",
    "        a,b = rule\n",
    "        if a in mutable_upd and b in mutable_upd:\n",
    "            if mutable_upd.index(a) > mutable_upd.index(b):\n",
    "                aix = mutable_upd.index(a)\n",
    "                bix = mutable_upd.index(b)\n",
    "                mutable_upd[aix] = b\n",
    "                mutable_upd[bix] = a\n",
    "                break\n",
    "    return mutable_upd"
   ]
  },
  {
   "cell_type": "code",
   "execution_count": 59,
   "id": "d3632b56-94b6-4659-badf-3e9e2721e063",
   "metadata": {
    "scrolled": true
   },
   "outputs": [],
   "source": [
    "ctr = 0\n",
    "for upd in bads:\n",
    "    mupd = upd.copy()\n",
    "    while True:\n",
    "        mupdnew = whip_it(mupd)\n",
    "        #print(mupd, mupdnew)\n",
    "        if mupdnew == mupd:\n",
    "            break\n",
    "        else:\n",
    "            mupd = mupdnew\n",
    "    \n",
    "    idx = len(mupd)//2 #middle value\n",
    "    ctr += mupd[idx]            "
   ]
  },
  {
   "cell_type": "code",
   "execution_count": 60,
   "id": "deb97d04-f033-4fc4-9100-5c7a3dad8974",
   "metadata": {},
   "outputs": [
    {
     "data": {
      "text/plain": [
       "4407"
      ]
     },
     "execution_count": 60,
     "metadata": {},
     "output_type": "execute_result"
    }
   ],
   "source": [
    "ctr"
   ]
  },
  {
   "cell_type": "code",
   "execution_count": null,
   "id": "8f1a22bc-7d04-4b50-b77f-54246e181e73",
   "metadata": {},
   "outputs": [],
   "source": []
  }
 ],
 "metadata": {
  "kernelspec": {
   "display_name": "fctg-venv",
   "language": "python",
   "name": "fctg-venv"
  },
  "language_info": {
   "codemirror_mode": {
    "name": "ipython",
    "version": 3
   },
   "file_extension": ".py",
   "mimetype": "text/x-python",
   "name": "python",
   "nbconvert_exporter": "python",
   "pygments_lexer": "ipython3",
   "version": "3.10.12"
  }
 },
 "nbformat": 4,
 "nbformat_minor": 5
}

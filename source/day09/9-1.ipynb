{
 "cells": [
  {
   "cell_type": "code",
   "execution_count": 36,
   "id": "81c341df-a6ce-4824-a984-25a6df8553c5",
   "metadata": {},
   "outputs": [
    {
     "data": {
      "text/plain": [
       "\"Updated sys path to include repository root and as well as subdirs ['lib/python']\""
      ]
     },
     "execution_count": 36,
     "metadata": {},
     "output_type": "execute_result"
    }
   ],
   "source": [
    "%pathsetup lib/python"
   ]
  },
  {
   "cell_type": "code",
   "execution_count": 290,
   "id": "8cb80073-69c6-47a8-be73-0188e93d8784",
   "metadata": {},
   "outputs": [],
   "source": [
    "import numpy as np\n",
    "import pandas as pd\n",
    "#import rmm_util_accessor\n",
    "import itertools\n",
    "import time\n",
    "import re\n",
    "import grid"
   ]
  },
  {
   "cell_type": "code",
   "execution_count": 448,
   "id": "98e31e34-0a82-4f52-bc18-0bfc8dd09ebe",
   "metadata": {},
   "outputs": [],
   "source": [
    "day = 9\n",
    "#infile = f'/home/rmohring/code/rmm/advent-rmm-2024/source/day{day:02}/{day}-1-test.dat'\n",
    "infile = f'/home/rmohring/code/rmm/advent-rmm-2024/source/day{day:02}/{day}-1.dat'\n",
    "#infile = f'/home/rmohring/code/rmm/advent-rmm-2024/source/day{day:02}/{day}-2.dat'\n",
    "data = []\n",
    "with open(infile, 'r') as fh:\n",
    "    rawdata = fh.readlines()"
   ]
  },
  {
   "cell_type": "code",
   "execution_count": 449,
   "id": "100c5409-436f-44bc-bf1e-d48117f5ded6",
   "metadata": {},
   "outputs": [],
   "source": [
    "data = rawdata[0].strip('\\n')"
   ]
  },
  {
   "cell_type": "code",
   "execution_count": null,
   "id": "28b87daa-1f66-40ba-9404-f333dc42e90d",
   "metadata": {
    "scrolled": true
   },
   "outputs": [],
   "source": [
    "data"
   ]
  },
  {
   "cell_type": "code",
   "execution_count": 451,
   "id": "c8a1cbb1-af8b-43e3-b29a-e7c4dadd3f62",
   "metadata": {},
   "outputs": [],
   "source": [
    "a = []\n",
    "b = []\n",
    "for i,val in enumerate(data):\n",
    "    if i%2==0:\n",
    "        a.append(int(val))\n",
    "    else:\n",
    "        b.append(int(val))\n",
    "if len(a)-len(b)==1:\n",
    "    b.append(0)\n",
    "files = list(zip(a,b))"
   ]
  },
  {
   "cell_type": "code",
   "execution_count": null,
   "id": "4d504f3e-5863-4ccf-a150-6ef522708cf6",
   "metadata": {
    "scrolled": true
   },
   "outputs": [],
   "source": [
    "files"
   ]
  },
  {
   "cell_type": "code",
   "execution_count": null,
   "id": "dfc68087-872c-408a-9d36-98d51c804ff0",
   "metadata": {
    "scrolled": true
   },
   "outputs": [],
   "source": [
    "idfiles = []\n",
    "#numfiles = len(files)-1\n",
    "for i,(a,b) in enumerate((files)):\n",
    "    #n = numfiles - i\n",
    "    n = i\n",
    "    idfiles.extend([n]*a)\n",
    "print(idfiles)"
   ]
  },
  {
   "cell_type": "code",
   "execution_count": 411,
   "id": "46eee5f0-4583-45d7-a879-9fd647f7d343",
   "metadata": {},
   "outputs": [
    {
     "data": {
      "text/plain": [
       "49885"
      ]
     },
     "execution_count": 411,
     "metadata": {},
     "output_type": "execute_result"
    }
   ],
   "source": [
    "len(idfiles)"
   ]
  },
  {
   "cell_type": "code",
   "execution_count": 412,
   "id": "2fd04b0e-8a08-4f23-b70f-0506fcc47bb8",
   "metadata": {},
   "outputs": [
    {
     "name": "stdout",
     "output_type": "stream",
     "text": [
      "[0, 1, 1, 1, 2, 3, 3, 3, 4, 4, 5, 5, 5, 5, 6, 6, 6, 6, 7, 7, 7, 8, 8, 8, 8, 9, 9]\n"
     ]
    }
   ],
   "source": [
    "print(revfiles)"
   ]
  },
  {
   "cell_type": "code",
   "execution_count": 413,
   "id": "90410159-cb0c-459a-a6c8-e3caf0ccec85",
   "metadata": {},
   "outputs": [
    {
     "ename": "IndexError",
     "evalue": "pop from empty list",
     "output_type": "error",
     "traceback": [
      "\u001b[0;31m---------------------------------------------------------------------------\u001b[0m",
      "\u001b[0;31mIndexError\u001b[0m                                Traceback (most recent call last)",
      "Cell \u001b[0;32mIn[413], line 4\u001b[0m\n\u001b[1;32m      2\u001b[0m \u001b[38;5;28;01mfor\u001b[39;00m i,(f,empties) \u001b[38;5;129;01min\u001b[39;00m \u001b[38;5;28menumerate\u001b[39m(files):\n\u001b[1;32m      3\u001b[0m     \u001b[38;5;28;01mfor\u001b[39;00m nf \u001b[38;5;129;01min\u001b[39;00m \u001b[38;5;28mrange\u001b[39m(f):\n\u001b[0;32m----> 4\u001b[0m         fmap\u001b[38;5;241m.\u001b[39mappend(\u001b[43midfiles\u001b[49m\u001b[38;5;241;43m.\u001b[39;49m\u001b[43mpop\u001b[49m\u001b[43m(\u001b[49m\u001b[38;5;241;43m0\u001b[39;49m\u001b[43m)\u001b[49m)\n\u001b[1;32m      5\u001b[0m     \u001b[38;5;28;01mfor\u001b[39;00m ne \u001b[38;5;129;01min\u001b[39;00m \u001b[38;5;28mrange\u001b[39m(empties):\n\u001b[1;32m      6\u001b[0m         fmap\u001b[38;5;241m.\u001b[39mappend(idfiles\u001b[38;5;241m.\u001b[39mpop())        \n",
      "\u001b[0;31mIndexError\u001b[0m: pop from empty list"
     ]
    }
   ],
   "source": [
    "#crashes when it runs out of things to move, it's ok\n",
    "fmap = []\n",
    "for i,(f,empties) in enumerate(files):\n",
    "    for nf in range(f):\n",
    "        fmap.append(idfiles.pop(0))\n",
    "    for ne in range(empties):\n",
    "        fmap.append(idfiles.pop())        "
   ]
  },
  {
   "cell_type": "code",
   "execution_count": 414,
   "id": "5648525f-f123-4f33-80f9-5ac92bf5f7cc",
   "metadata": {},
   "outputs": [
    {
     "data": {
      "text/plain": [
       "49885"
      ]
     },
     "execution_count": 414,
     "metadata": {},
     "output_type": "execute_result"
    }
   ],
   "source": [
    "len(fmap)"
   ]
  },
  {
   "cell_type": "code",
   "execution_count": null,
   "id": "38c4c1b2-4627-45cf-b989-925af7b3bfc7",
   "metadata": {
    "scrolled": true
   },
   "outputs": [],
   "source": [
    "print(fmap)"
   ]
  },
  {
   "cell_type": "code",
   "execution_count": 416,
   "id": "932a846c-42e4-4606-b233-45d02fede74e",
   "metadata": {},
   "outputs": [
    {
     "name": "stdout",
     "output_type": "stream",
     "text": [
      "6334655979668\n"
     ]
    }
   ],
   "source": [
    "ans = 0\n",
    "for i,x in enumerate(fmap):\n",
    "    ans += i*x\n",
    "print(ans)"
   ]
  },
  {
   "cell_type": "markdown",
   "id": "fb5a5f85-e069-438e-8439-90ce189f9887",
   "metadata": {},
   "source": [
    "# Part 2"
   ]
  },
  {
   "cell_type": "code",
   "execution_count": 453,
   "id": "a487efc6-79df-40f9-b322-1960ce456475",
   "metadata": {},
   "outputs": [
    {
     "name": "stdout",
     "output_type": "stream",
     "text": [
      "[(2, 8), (4, 7), (7, 9), (6, 7), (1, 2), (8, 7), (9, 0), (3, 3), (4, 3), (3, 7)] \n",
      " [(3, 5), (4, 0), (5, 0), (3, 0), (3, 6), (2, 5), (4, 4), (9, 4), (2, 6), (1, 0)]\n"
     ]
    }
   ],
   "source": [
    "print(files[:10], \"\\n\", files[-10:])"
   ]
  },
  {
   "cell_type": "code",
   "execution_count": 482,
   "id": "cef46c36-89c4-4aa9-a04d-c6a3d65378f2",
   "metadata": {},
   "outputs": [],
   "source": [
    "ref = {}\n",
    "for i,x in enumerate(files):\n",
    "    ref[i] = x"
   ]
  },
  {
   "cell_type": "code",
   "execution_count": 483,
   "id": "1236efac-f64d-417a-a10b-c6701d3c0071",
   "metadata": {},
   "outputs": [],
   "source": [
    "newfiles = {}\n",
    "newspaces = {}\n",
    "newnspaces = {}\n",
    "newcopy = {}\n",
    "newfiller = {}\n",
    "for i,(f,e) in enumerate(files):\n",
    "    newfiles[i] = [i]*f\n",
    "    newnspaces[i] = e\n",
    "    newspaces[i] = []\n",
    "    newcopy[i] = f\n",
    "    newfiller[i] = (f,e)"
   ]
  },
  {
   "cell_type": "code",
   "execution_count": 484,
   "id": "bf0d9baf-9a2d-4014-bb78-f719331c9b95",
   "metadata": {
    "scrolled": true
   },
   "outputs": [
    {
     "name": "stdout",
     "output_type": "stream",
     "text": [
      "0 [0, 0] 8 2 (2, 8)\n",
      "1 [1, 1, 1, 1] 7 4 (4, 7)\n",
      "2 [2, 2, 2, 2, 2, 2, 2] 9 7 (7, 9)\n",
      "3 [3, 3, 3, 3, 3, 3] 7 6 (6, 7)\n",
      "4 [4] 2 1 (1, 2)\n",
      "5 [5, 5, 5, 5, 5, 5, 5, 5] 7 8 (8, 7)\n",
      "9994 [9994, 9994, 9994] 6 3 (3, 6)\n",
      "9995 [9995, 9995] 5 2 (2, 5)\n",
      "9996 [9996, 9996, 9996, 9996] 4 4 (4, 4)\n",
      "9997 [9997, 9997, 9997, 9997, 9997, 9997, 9997, 9997, 9997] 4 9 (9, 4)\n",
      "9998 [9998, 9998] 6 2 (2, 6)\n",
      "9999 [9999] 0 1 (1, 0)\n"
     ]
    }
   ],
   "source": [
    "for x in list(sorted(newfiles))[:6]:\n",
    "    print(x, newfiles[x], newnspaces[x], newcopy[x], newfiller[x])\n",
    "for x in list(sorted(newfiles))[-6:]:\n",
    "    print(x, newfiles[x], newnspaces[x], newcopy[x], newfiller[x])"
   ]
  },
  {
   "cell_type": "code",
   "execution_count": null,
   "id": "2e0af0f5-1834-4766-9133-c77518288bdb",
   "metadata": {
    "scrolled": true
   },
   "outputs": [],
   "source": [
    "keys = list(sorted(newfiles.keys()))\n",
    "for k2 in list(reversed(sorted(newcopy.keys()))):\n",
    "    num = newcopy[k2]\n",
    "    print(\"k2, num\", k2, num)\n",
    "    \n",
    "    #keys = list(sorted(newfiles.keys()))\n",
    "    for k in keys:\n",
    "        if k>=k2:\n",
    "            break\n",
    "        #empties = newspaces[k]\n",
    "        n_empties = newnspaces[k]\n",
    "        if num <= n_empties:\n",
    "            diff = n_empties - num\n",
    "            newspaces[k].extend([k2]*num)\n",
    "            newnspaces[k] = diff\n",
    "            print(f\"**Moving {[k2]*num} into {k} {n_empties} space, {newspaces[k]} leaving {diff} remaining spaces.\")            \n",
    "            del newfiles[k2]\n",
    "            break"
   ]
  },
  {
   "cell_type": "code",
   "execution_count": 486,
   "id": "e371d796-e606-40ba-b4b1-752a5e67d6d9",
   "metadata": {},
   "outputs": [
    {
     "data": {
      "text/plain": [
       "((2, 8), (4, 7), (7, 9))"
      ]
     },
     "execution_count": 486,
     "metadata": {},
     "output_type": "execute_result"
    }
   ],
   "source": [
    "ref[0], ref[1], ref[2]"
   ]
  },
  {
   "cell_type": "code",
   "execution_count": null,
   "id": "47550bef-f7ea-4cb3-b7cf-f02b22710935",
   "metadata": {
    "scrolled": true
   },
   "outputs": [],
   "source": [
    "newspaces"
   ]
  },
  {
   "cell_type": "code",
   "execution_count": null,
   "id": "1b2a888c-7893-40c1-a08c-6f9d44849e17",
   "metadata": {
    "scrolled": true
   },
   "outputs": [],
   "source": [
    "newnspaces"
   ]
  },
  {
   "cell_type": "code",
   "execution_count": null,
   "id": "ee4e8584-e623-4582-b7cf-8eb9f77f2cad",
   "metadata": {
    "scrolled": true
   },
   "outputs": [],
   "source": [
    "newcopy"
   ]
  },
  {
   "cell_type": "code",
   "execution_count": null,
   "id": "0ab42aa5-a35b-4f18-9ca6-c8e4e2d5464f",
   "metadata": {
    "scrolled": true
   },
   "outputs": [],
   "source": [
    "for k in sorted(newnspaces.keys()):\n",
    "    if k not in newfiles:\n",
    "        print(f\"{k} key missing! {newfiller[k]}\")\n",
    "        newfiles[k] = [0]*newfiller[k][0]\n",
    "    newspaces[k].extend([0]*newnspaces[k])"
   ]
  },
  {
   "cell_type": "code",
   "execution_count": 491,
   "id": "101825e3-a6fe-4310-8886-e671bb732bde",
   "metadata": {},
   "outputs": [],
   "source": [
    "final = []\n",
    "for k in sorted(newfiles.keys()):\n",
    "    final.extend(newfiles[k])\n",
    "    final.extend(newspaces[k])"
   ]
  },
  {
   "cell_type": "code",
   "execution_count": null,
   "id": "485f8a29-4fb4-4973-9323-41bf8f5ee836",
   "metadata": {
    "scrolled": true
   },
   "outputs": [],
   "source": [
    "print(final)"
   ]
  },
  {
   "cell_type": "code",
   "execution_count": 493,
   "id": "52f78244-9ecb-435e-a645-75972fa36cf1",
   "metadata": {},
   "outputs": [
    {
     "name": "stdout",
     "output_type": "stream",
     "text": [
      "6349492251099\n"
     ]
    }
   ],
   "source": [
    "ans = 0\n",
    "for i,x in enumerate(final):\n",
    "    ans += i*x\n",
    "print(ans)\n",
    "#6353850732860 was too high"
   ]
  },
  {
   "cell_type": "code",
   "execution_count": null,
   "id": "9a3071e3-e83e-4a7f-ad9f-04b164c3b75b",
   "metadata": {},
   "outputs": [],
   "source": []
  }
 ],
 "metadata": {
  "kernelspec": {
   "display_name": "Python 3 (ipykernel)",
   "language": "python",
   "name": "python3"
  },
  "language_info": {
   "codemirror_mode": {
    "name": "ipython",
    "version": 3
   },
   "file_extension": ".py",
   "mimetype": "text/x-python",
   "name": "python",
   "nbconvert_exporter": "python",
   "pygments_lexer": "ipython3",
   "version": "3.10.12"
  }
 },
 "nbformat": 4,
 "nbformat_minor": 5
}

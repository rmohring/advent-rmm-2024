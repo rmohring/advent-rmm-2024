{
 "cells": [
  {
   "cell_type": "code",
   "execution_count": 1,
   "id": "81c341df-a6ce-4824-a984-25a6df8553c5",
   "metadata": {},
   "outputs": [
    {
     "data": {
      "text/plain": [
       "\"Updated sys path to include repository root and as well as subdirs ['lib/python']\""
      ]
     },
     "execution_count": 1,
     "metadata": {},
     "output_type": "execute_result"
    }
   ],
   "source": [
    "%pathsetup lib/python"
   ]
  },
  {
   "cell_type": "code",
   "execution_count": 2,
   "id": "8cb80073-69c6-47a8-be73-0188e93d8784",
   "metadata": {},
   "outputs": [],
   "source": [
    "import numpy as np\n",
    "import pandas as pd\n",
    "#import rmm_util_accessor\n",
    "import itertools\n",
    "import time\n",
    "import re\n",
    "\n",
    "#from icecream import ic\n",
    "import grid"
   ]
  },
  {
   "cell_type": "code",
   "execution_count": 48,
   "id": "98e31e34-0a82-4f52-bc18-0bfc8dd09ebe",
   "metadata": {},
   "outputs": [],
   "source": [
    "day = 13\n",
    "#infile = f'/home/rmohring/code/rmm/advent-rmm-2024/source/day{day:02}/{day}-1-test.dat'\n",
    "infile = f'/home/rmohring/code/rmm/advent-rmm-2024/source/day{day:02}/{day}-1.dat'\n",
    "#infile = f'/home/rmohring/code/rmm/advent-rmm-2024/source/day{day:02}/{day}-2.dat'\n",
    "data = []\n",
    "with open(infile, 'r') as fh:\n",
    "    data = fh.readlines()"
   ]
  },
  {
   "cell_type": "code",
   "execution_count": 49,
   "id": "e67648bb-fb5e-42c1-a131-2d8610dd750c",
   "metadata": {},
   "outputs": [],
   "source": [
    "ax = []\n",
    "ay = []\n",
    "bx = []\n",
    "by = []\n",
    "X = []\n",
    "Y = []"
   ]
  },
  {
   "cell_type": "code",
   "execution_count": 50,
   "id": "49852389-5e53-4da7-83cc-599faa3a2d15",
   "metadata": {},
   "outputs": [],
   "source": [
    "for row in data:\n",
    "    if row == \"\":\n",
    "        continue\n",
    "    tmp = row.strip(\"\\n\").replace(\" \",\"\").split(\":\")\n",
    "    if tmp[0] == \"ButtonA\":\n",
    "        v = tmp[1].replace(\",\",\"+\").split(\"+\")\n",
    "        ax.append(int(v[1]))\n",
    "        ay.append(int(v[3]))\n",
    "    if tmp[0] == \"ButtonB\":\n",
    "        v = tmp[1].replace(\",\",\"+\").split(\"+\")\n",
    "        bx.append(int(v[1]))\n",
    "        by.append(int(v[3]))\n",
    "    if tmp[0] == \"Prize\":\n",
    "        v = tmp[1].replace(\",\",\"=\").split(\"=\")\n",
    "        X.append(int(v[1]))\n",
    "        Y.append(int(v[3]))"
   ]
  },
  {
   "cell_type": "code",
   "execution_count": 51,
   "id": "75fc1e2a-00f7-47be-9b6a-bb601d83e6ab",
   "metadata": {},
   "outputs": [],
   "source": [
    "df = pd.DataFrame(data=[X, Y, ax, ay, bx, by]).T\n",
    "df.columns = [\"X\", \"Y\", \"ax\", \"ay\", \"bx\", \"by\"]"
   ]
  },
  {
   "cell_type": "code",
   "execution_count": 52,
   "id": "e9df81c0-5ddc-4cda-8782-7963f7ad6e63",
   "metadata": {},
   "outputs": [],
   "source": [
    "df = df.astype(int)"
   ]
  },
  {
   "cell_type": "code",
   "execution_count": 53,
   "id": "15176fd4-418d-45fe-8368-5043ca4c279c",
   "metadata": {},
   "outputs": [
    {
     "data": {
      "text/plain": [
       "X     int64\n",
       "Y     int64\n",
       "ax    int64\n",
       "ay    int64\n",
       "bx    int64\n",
       "by    int64\n",
       "dtype: object"
      ]
     },
     "execution_count": 53,
     "metadata": {},
     "output_type": "execute_result"
    }
   ],
   "source": [
    "df.dtypes"
   ]
  },
  {
   "cell_type": "code",
   "execution_count": 54,
   "id": "71b1c4db-5962-4e8e-94d4-4be02779ede0",
   "metadata": {},
   "outputs": [],
   "source": [
    "df['B'] = (df.ay*df.X - df.ax*df.Y)/(df.ay*df.bx - df.by*df.ax)"
   ]
  },
  {
   "cell_type": "code",
   "execution_count": 55,
   "id": "a11bd901-2958-462f-aebb-9cdf26b5f879",
   "metadata": {},
   "outputs": [],
   "source": [
    "df['A'] = (df.X - df.bx*df.B)/df.ax"
   ]
  },
  {
   "cell_type": "code",
   "execution_count": 56,
   "id": "dbff7222-7d7b-4131-9a1b-a5356176cb09",
   "metadata": {},
   "outputs": [],
   "source": [
    "df['A_int'] = df['A'].astype(int)\n",
    "df['B_int'] = df['B'].astype(int)"
   ]
  },
  {
   "cell_type": "code",
   "execution_count": 57,
   "id": "b34ca013-05ee-4cfd-92ff-c6873e69e40d",
   "metadata": {},
   "outputs": [],
   "source": [
    "#df['tot_presses'] = df['A_int'] + df['B_int']"
   ]
  },
  {
   "cell_type": "code",
   "execution_count": 58,
   "id": "521aa535-4423-480a-9e71-0d8f40d40f40",
   "metadata": {},
   "outputs": [
    {
     "data": {
      "text/html": [
       "<div>\n",
       "<style scoped>\n",
       "    .dataframe tbody tr th:only-of-type {\n",
       "        vertical-align: middle;\n",
       "    }\n",
       "\n",
       "    .dataframe tbody tr th {\n",
       "        vertical-align: top;\n",
       "    }\n",
       "\n",
       "    .dataframe thead th {\n",
       "        text-align: right;\n",
       "    }\n",
       "</style>\n",
       "<table border=\"1\" class=\"dataframe\">\n",
       "  <thead>\n",
       "    <tr style=\"text-align: right;\">\n",
       "      <th></th>\n",
       "      <th>X</th>\n",
       "      <th>Y</th>\n",
       "      <th>ax</th>\n",
       "      <th>ay</th>\n",
       "      <th>bx</th>\n",
       "      <th>by</th>\n",
       "      <th>B</th>\n",
       "      <th>A</th>\n",
       "      <th>A_int</th>\n",
       "      <th>B_int</th>\n",
       "    </tr>\n",
       "  </thead>\n",
       "  <tbody>\n",
       "    <tr>\n",
       "      <th>0</th>\n",
       "      <td>14212</td>\n",
       "      <td>3815</td>\n",
       "      <td>12</td>\n",
       "      <td>57</td>\n",
       "      <td>56</td>\n",
       "      <td>15</td>\n",
       "      <td>253.752988</td>\n",
       "      <td>0.152722</td>\n",
       "      <td>0</td>\n",
       "      <td>253</td>\n",
       "    </tr>\n",
       "    <tr>\n",
       "      <th>1</th>\n",
       "      <td>3507</td>\n",
       "      <td>4566</td>\n",
       "      <td>17</td>\n",
       "      <td>46</td>\n",
       "      <td>98</td>\n",
       "      <td>19</td>\n",
       "      <td>20.000000</td>\n",
       "      <td>91.000000</td>\n",
       "      <td>91</td>\n",
       "      <td>20</td>\n",
       "    </tr>\n",
       "    <tr>\n",
       "      <th>2</th>\n",
       "      <td>3236</td>\n",
       "      <td>2540</td>\n",
       "      <td>60</td>\n",
       "      <td>12</td>\n",
       "      <td>23</td>\n",
       "      <td>41</td>\n",
       "      <td>52.000000</td>\n",
       "      <td>34.000000</td>\n",
       "      <td>34</td>\n",
       "      <td>52</td>\n",
       "    </tr>\n",
       "    <tr>\n",
       "      <th>3</th>\n",
       "      <td>3193</td>\n",
       "      <td>10546</td>\n",
       "      <td>13</td>\n",
       "      <td>99</td>\n",
       "      <td>84</td>\n",
       "      <td>41</td>\n",
       "      <td>23.000000</td>\n",
       "      <td>97.000000</td>\n",
       "      <td>97</td>\n",
       "      <td>23</td>\n",
       "    </tr>\n",
       "    <tr>\n",
       "      <th>4</th>\n",
       "      <td>2250</td>\n",
       "      <td>3354</td>\n",
       "      <td>30</td>\n",
       "      <td>82</td>\n",
       "      <td>35</td>\n",
       "      <td>18</td>\n",
       "      <td>36.000000</td>\n",
       "      <td>33.000000</td>\n",
       "      <td>33</td>\n",
       "      <td>36</td>\n",
       "    </tr>\n",
       "  </tbody>\n",
       "</table>\n",
       "</div>"
      ],
      "text/plain": [
       "       X      Y  ax  ay  bx  by           B          A  A_int  B_int\n",
       "0  14212   3815  12  57  56  15  253.752988   0.152722      0    253\n",
       "1   3507   4566  17  46  98  19   20.000000  91.000000     91     20\n",
       "2   3236   2540  60  12  23  41   52.000000  34.000000     34     52\n",
       "3   3193  10546  13  99  84  41   23.000000  97.000000     97     23\n",
       "4   2250   3354  30  82  35  18   36.000000  33.000000     33     36"
      ]
     },
     "execution_count": 58,
     "metadata": {},
     "output_type": "execute_result"
    }
   ],
   "source": [
    "df.head()"
   ]
  },
  {
   "cell_type": "code",
   "execution_count": 59,
   "id": "be0e2c5f-c7d6-4ad0-83b7-7324c3094765",
   "metadata": {},
   "outputs": [],
   "source": [
    "solution = df[(df.A<=100)&(df.B<=100)&(df.A==df.A_int)&(df.B==df.B_int)].copy()"
   ]
  },
  {
   "cell_type": "code",
   "execution_count": 60,
   "id": "5d725951-d142-438b-a120-6517562c2ec6",
   "metadata": {},
   "outputs": [],
   "source": [
    "solution['cost'] = solution.A*3 + solution.B"
   ]
  },
  {
   "cell_type": "code",
   "execution_count": 62,
   "id": "313785eb-642e-4b98-8aba-c4abb65f43a4",
   "metadata": {},
   "outputs": [
    {
     "data": {
      "text/plain": [
       "39996"
      ]
     },
     "execution_count": 62,
     "metadata": {},
     "output_type": "execute_result"
    }
   ],
   "source": [
    "int(solution['cost'].sum())"
   ]
  },
  {
   "cell_type": "markdown",
   "id": "78ac6da6-4bb7-42a0-83d8-2ca1030d84c9",
   "metadata": {},
   "source": [
    "# Part 2"
   ]
  },
  {
   "cell_type": "code",
   "execution_count": 63,
   "id": "61ea3417-88a8-409a-b5aa-10e79a62b81a",
   "metadata": {},
   "outputs": [],
   "source": [
    "df.X = df.X + 10000000000000\n",
    "df.Y = df.Y + 10000000000000"
   ]
  },
  {
   "cell_type": "code",
   "execution_count": 64,
   "id": "ef7e5a4f-ca82-4f0b-b3a6-53fa522ab3b1",
   "metadata": {},
   "outputs": [],
   "source": [
    "df['B'] = (df.ay*df.X - df.ax*df.Y)/(df.ay*df.bx - df.by*df.ax)"
   ]
  },
  {
   "cell_type": "code",
   "execution_count": 65,
   "id": "e212f0e2-33ba-46fa-ad44-c49999dd0e7e",
   "metadata": {},
   "outputs": [],
   "source": [
    "df['A'] = (df.X - df.bx*df.B)/df.ax"
   ]
  },
  {
   "cell_type": "code",
   "execution_count": 66,
   "id": "0cfb566e-75a5-4082-9864-f98d36f05c92",
   "metadata": {},
   "outputs": [],
   "source": [
    "df['A_int'] = df['A'].astype(int)\n",
    "df['B_int'] = df['B'].astype(int)"
   ]
  },
  {
   "cell_type": "code",
   "execution_count": 67,
   "id": "1398519f-f2a0-4f06-8d6b-8fee0c8826dd",
   "metadata": {},
   "outputs": [],
   "source": [
    "solution2 = df[(df.A==df.A_int)&(df.B==df.B_int)].copy()"
   ]
  },
  {
   "cell_type": "code",
   "execution_count": 68,
   "id": "ae282bae-0b34-4899-a99e-cad545047b0a",
   "metadata": {},
   "outputs": [],
   "source": [
    "solution2['cost'] = solution2.A*3 + solution2.B"
   ]
  },
  {
   "cell_type": "code",
   "execution_count": 69,
   "id": "37b71095-16c2-4078-aa63-cbc826539829",
   "metadata": {},
   "outputs": [
    {
     "data": {
      "text/plain": [
       "73267584326867"
      ]
     },
     "execution_count": 69,
     "metadata": {},
     "output_type": "execute_result"
    }
   ],
   "source": [
    "int(solution2['cost'].sum())"
   ]
  },
  {
   "cell_type": "markdown",
   "id": "c74eb92f-d5e3-4f72-aa63-aa0a344ffcaf",
   "metadata": {},
   "source": [
    "# Example"
   ]
  },
  {
   "cell_type": "code",
   "execution_count": 5,
   "id": "c05392bf-654e-48da-8cd3-ddb71d677cd6",
   "metadata": {},
   "outputs": [],
   "source": [
    "ax,ay = 94, 34\n",
    "bx, by = 22, 67\n",
    "X, Y = 8400, 5400"
   ]
  },
  {
   "cell_type": "code",
   "execution_count": 6,
   "id": "9f14abb7-2265-493b-b1fd-6ff20eb973de",
   "metadata": {},
   "outputs": [],
   "source": [
    "B = (ay*X - ax*Y)/(ay*bx - by*ax)"
   ]
  },
  {
   "cell_type": "code",
   "execution_count": 7,
   "id": "49867711-e853-450a-8f6f-1222baade97d",
   "metadata": {},
   "outputs": [],
   "source": [
    "A = (X - bx*B)/ax"
   ]
  },
  {
   "cell_type": "code",
   "execution_count": 8,
   "id": "53cdd79a-d960-46bc-a947-e63a841d0001",
   "metadata": {},
   "outputs": [
    {
     "data": {
      "text/plain": [
       "(80.0, 40.0)"
      ]
     },
     "execution_count": 8,
     "metadata": {},
     "output_type": "execute_result"
    }
   ],
   "source": [
    "A,B"
   ]
  },
  {
   "cell_type": "code",
   "execution_count": null,
   "id": "5eb72d18-555f-4896-9c23-121876301444",
   "metadata": {},
   "outputs": [],
   "source": []
  }
 ],
 "metadata": {
  "kernelspec": {
   "display_name": "fctg-venv",
   "language": "python",
   "name": "fctg-venv"
  },
  "language_info": {
   "codemirror_mode": {
    "name": "ipython",
    "version": 3
   },
   "file_extension": ".py",
   "mimetype": "text/x-python",
   "name": "python",
   "nbconvert_exporter": "python",
   "pygments_lexer": "ipython3",
   "version": "3.10.12"
  }
 },
 "nbformat": 4,
 "nbformat_minor": 5
}
